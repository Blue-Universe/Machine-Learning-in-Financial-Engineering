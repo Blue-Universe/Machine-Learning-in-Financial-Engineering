{
 "cells": [
  {
   "cell_type": "markdown",
   "metadata": {
    "colab_type": "text",
    "id": "NoTGn5LlkSVP"
   },
   "source": [
    "**The first three units are used for colab: if you simply run the code on python notebook, please ignore the first three units below.**"
   ]
  },
  {
   "cell_type": "code",
   "execution_count": 1,
   "metadata": {
    "colab": {
     "base_uri": "https://localhost:8080/",
     "height": 80
    },
    "colab_type": "code",
    "id": "Et91SqO8UUk9",
    "outputId": "3194b290-a9e7-464d-c792-90efe74d96a3"
   },
   "outputs": [
    {
     "name": "stdout",
     "output_type": "stream",
     "text": [
      "E: Package 'python-software-properties' has no installation candidate\n",
      "··········\n"
     ]
    }
   ],
   "source": [
    "!apt-get install -y -qq software-properties-common python-software-properties module-init-tools\n",
    "!add-apt-repository -y ppa:alessandro-strada/ppa 2>&1 > /dev/null\n",
    "!apt-get update -qq 2>&1 > /dev/null\n",
    "!apt-get -y install -qq google-drive-ocamlfuse fuse\n",
    "from google.colab import auth\n",
    "auth.authenticate_user()\n",
    "from oauth2client.client import GoogleCredentials\n",
    "creds = GoogleCredentials.get_application_default()\n",
    "import getpass\n",
    "!google-drive-ocamlfuse -headless -id={creds.client_id} -secret={creds.client_secret} < /dev/null 2>&1 | grep URL\n",
    "vcode = getpass.getpass()\n",
    "!echo {vcode} | google-drive-ocamlfuse -headless -id={creds.client_id} -secret={creds.client_secret}"
   ]
  },
  {
   "cell_type": "code",
   "execution_count": 6,
   "metadata": {
    "colab": {
     "base_uri": "https://localhost:8080/",
     "height": 80
    },
    "colab_type": "code",
    "id": "Vz9Dp2qiVBGy",
    "outputId": "49a8608e-d9f2-4983-cf39-780eac4b89b8"
   },
   "outputs": [
    {
     "name": "stdout",
     "output_type": "stream",
     "text": [
      "fuse: mountpoint is not empty\n",
      "fuse: if you are sure this is safe, use the 'nonempty' mount option\n"
     ]
    }
   ],
   "source": [
    "!mkdir -p drive\n",
    "!google-drive-ocamlfuse drive"
   ]
  },
  {
   "cell_type": "code",
   "execution_count": 0,
   "metadata": {
    "colab": {},
    "colab_type": "code",
    "id": "k7Kc2-VvVGTZ"
   },
   "outputs": [],
   "source": [
    "import os\n",
    "os.chdir(\"drive/Colab Notebooks\") "
   ]
  },
  {
   "cell_type": "code",
   "execution_count": 0,
   "metadata": {
    "colab": {},
    "colab_type": "code",
    "id": "mO19vOxzUSGY"
   },
   "outputs": [],
   "source": [
    "import pandas as pd\n",
    "import numpy as np\n",
    "import matplotlib.pylab as plt\n",
    "%matplotlib inline\n",
    "from datetime import datetime\n",
    "from sklearn.linear_model import LogisticRegression"
   ]
  },
  {
   "cell_type": "code",
   "execution_count": 0,
   "metadata": {
    "colab": {},
    "colab_type": "code",
    "id": "gdXyDGbQUSGp"
   },
   "outputs": [],
   "source": [
    "data=pd.read_csv(\"./final_project_data.csv\")\n",
    "data=data.dropna()\n",
    "data.index=range(len(data))"
   ]
  },
  {
   "cell_type": "code",
   "execution_count": 10,
   "metadata": {
    "colab": {
     "base_uri": "https://localhost:8080/",
     "height": 34
    },
    "colab_type": "code",
    "id": "lBUZHzWcUSGz",
    "outputId": "8fdb613b-48cd-4b24-f88b-ca800675037c"
   },
   "outputs": [
    {
     "data": {
      "text/plain": [
       "(3547259, 43)"
      ]
     },
     "execution_count": 10,
     "metadata": {
      "tags": []
     },
     "output_type": "execute_result"
    }
   ],
   "source": [
    "data.shape"
   ]
  },
  {
   "cell_type": "code",
   "execution_count": 7,
   "metadata": {
    "colab": {
     "base_uri": "https://localhost:8080/",
     "height": 289
    },
    "colab_type": "code",
    "id": "rH26oa6jUSHD",
    "outputId": "f840ca78-a613-4a91-ff2f-78582adaaf46"
   },
   "outputs": [
    {
     "data": {
      "text/plain": [
       "Index(['date', 'id', 'industry', 'ret_raw', 'flag', 'ret_20_raw', 'flag2',\n",
       "       'ret_raw_norm', 'ret_20_raw_norm', 'ret_raw_norm_lag_21',\n",
       "       'ret_raw_norm_lag_22', 'ret_raw_norm_lag_23', 'ret_raw_norm_lag_24',\n",
       "       'ret_raw_norm_lag_25', 'ret_raw_norm_lag_26', 'ret_raw_norm_lag_27',\n",
       "       'ret_raw_norm_lag_28', 'ret_raw_norm_lag_29', 'ret_raw_norm_lag_30',\n",
       "       'ret_raw_norm_lag_31', 'ret_raw_norm_lag_32', 'ret_raw_norm_lag_33',\n",
       "       'ret_raw_norm_lag_34', 'ret_raw_norm_lag_35', 'ret_raw_norm_lag_36',\n",
       "       'ret_raw_norm_lag_37', 'ret_raw_norm_lag_38', 'ret_raw_norm_lag_39',\n",
       "       'ret_raw_norm_lag_40', 'ret_20_raw_norm_lag_41_60',\n",
       "       'ret_20_raw_norm_lag_61_80', 'ret_20_raw_norm_lag_81_100',\n",
       "       'ret_20_raw_norm_lag_101_120', 'ret_20_raw_norm_lag_121_140',\n",
       "       'ret_20_raw_norm_lag_141_160', 'ret_20_raw_norm_lag_161_180',\n",
       "       'ret_20_raw_norm_lag_181_200', 'ret_20_raw_norm_lag_201_220',\n",
       "       'ret_20_raw_norm_lag_221_240', 'ret_20_raw_norm_lag_241_260',\n",
       "       'ret_20_raw_norm_lag_261_280', 'isJan', 'target'],\n",
       "      dtype='object')"
      ]
     },
     "execution_count": 7,
     "metadata": {
      "tags": []
     },
     "output_type": "execute_result"
    }
   ],
   "source": [
    "data.columns # get columns names"
   ]
  },
  {
   "cell_type": "code",
   "execution_count": 8,
   "metadata": {
    "colab": {
     "base_uri": "https://localhost:8080/",
     "height": 382
    },
    "colab_type": "code",
    "id": "GMO0gffpUSHQ",
    "outputId": "5b473a3b-dd76-47a2-a015-1fef51a6ea58"
   },
   "outputs": [
    {
     "data": {
      "text/html": [
       "<div>\n",
       "<style scoped>\n",
       "    .dataframe tbody tr th:only-of-type {\n",
       "        vertical-align: middle;\n",
       "    }\n",
       "\n",
       "    .dataframe tbody tr th {\n",
       "        vertical-align: top;\n",
       "    }\n",
       "\n",
       "    .dataframe thead th {\n",
       "        text-align: right;\n",
       "    }\n",
       "</style>\n",
       "<table border=\"1\" class=\"dataframe\">\n",
       "  <thead>\n",
       "    <tr style=\"text-align: right;\">\n",
       "      <th></th>\n",
       "      <th>date</th>\n",
       "      <th>id</th>\n",
       "      <th>industry</th>\n",
       "      <th>ret_raw</th>\n",
       "      <th>flag</th>\n",
       "      <th>ret_20_raw</th>\n",
       "      <th>flag2</th>\n",
       "      <th>ret_raw_norm</th>\n",
       "      <th>ret_20_raw_norm</th>\n",
       "      <th>ret_raw_norm_lag_21</th>\n",
       "      <th>ret_raw_norm_lag_22</th>\n",
       "      <th>ret_raw_norm_lag_23</th>\n",
       "      <th>ret_raw_norm_lag_24</th>\n",
       "      <th>ret_raw_norm_lag_25</th>\n",
       "      <th>ret_raw_norm_lag_26</th>\n",
       "      <th>ret_raw_norm_lag_27</th>\n",
       "      <th>ret_raw_norm_lag_28</th>\n",
       "      <th>ret_raw_norm_lag_29</th>\n",
       "      <th>ret_raw_norm_lag_30</th>\n",
       "      <th>ret_raw_norm_lag_31</th>\n",
       "      <th>ret_raw_norm_lag_32</th>\n",
       "      <th>ret_raw_norm_lag_33</th>\n",
       "      <th>ret_raw_norm_lag_34</th>\n",
       "      <th>ret_raw_norm_lag_35</th>\n",
       "      <th>ret_raw_norm_lag_36</th>\n",
       "      <th>ret_raw_norm_lag_37</th>\n",
       "      <th>ret_raw_norm_lag_38</th>\n",
       "      <th>ret_raw_norm_lag_39</th>\n",
       "      <th>ret_raw_norm_lag_40</th>\n",
       "      <th>ret_20_raw_norm_lag_41_60</th>\n",
       "      <th>ret_20_raw_norm_lag_61_80</th>\n",
       "      <th>ret_20_raw_norm_lag_81_100</th>\n",
       "      <th>ret_20_raw_norm_lag_101_120</th>\n",
       "      <th>ret_20_raw_norm_lag_121_140</th>\n",
       "      <th>ret_20_raw_norm_lag_141_160</th>\n",
       "      <th>ret_20_raw_norm_lag_161_180</th>\n",
       "      <th>ret_20_raw_norm_lag_181_200</th>\n",
       "      <th>ret_20_raw_norm_lag_201_220</th>\n",
       "      <th>ret_20_raw_norm_lag_221_240</th>\n",
       "      <th>ret_20_raw_norm_lag_241_260</th>\n",
       "      <th>ret_20_raw_norm_lag_261_280</th>\n",
       "      <th>isJan</th>\n",
       "      <th>target</th>\n",
       "    </tr>\n",
       "  </thead>\n",
       "  <tbody>\n",
       "    <tr>\n",
       "      <th>0</th>\n",
       "      <td>20080214</td>\n",
       "      <td>A US Equity</td>\n",
       "      <td>3520</td>\n",
       "      <td>-0.034888</td>\n",
       "      <td>True</td>\n",
       "      <td>-0.115785</td>\n",
       "      <td>False</td>\n",
       "      <td>-0.626602</td>\n",
       "      <td>-1.155291</td>\n",
       "      <td>-0.342618</td>\n",
       "      <td>0.239199</td>\n",
       "      <td>0.290432</td>\n",
       "      <td>-0.299998</td>\n",
       "      <td>1.242919</td>\n",
       "      <td>-0.135493</td>\n",
       "      <td>0.738161</td>\n",
       "      <td>0.518395</td>\n",
       "      <td>-0.045446</td>\n",
       "      <td>-0.015960</td>\n",
       "      <td>0.124973</td>\n",
       "      <td>-0.599338</td>\n",
       "      <td>0.431121</td>\n",
       "      <td>0.604640</td>\n",
       "      <td>0.675931</td>\n",
       "      <td>-0.981560</td>\n",
       "      <td>0.109574</td>\n",
       "      <td>0.634206</td>\n",
       "      <td>0.455507</td>\n",
       "      <td>-0.976536</td>\n",
       "      <td>0.941194</td>\n",
       "      <td>-0.609156</td>\n",
       "      <td>0.169026</td>\n",
       "      <td>0.575599</td>\n",
       "      <td>-0.927360</td>\n",
       "      <td>0.184879</td>\n",
       "      <td>0.157539</td>\n",
       "      <td>1.093994</td>\n",
       "      <td>-0.189996</td>\n",
       "      <td>0.915039</td>\n",
       "      <td>-0.259174</td>\n",
       "      <td>-1.240792</td>\n",
       "      <td>0.0</td>\n",
       "      <td>0.0</td>\n",
       "    </tr>\n",
       "    <tr>\n",
       "      <th>1</th>\n",
       "      <td>20080214</td>\n",
       "      <td>AA US Equity</td>\n",
       "      <td>1510</td>\n",
       "      <td>-0.004224</td>\n",
       "      <td>True</td>\n",
       "      <td>0.160461</td>\n",
       "      <td>False</td>\n",
       "      <td>0.538586</td>\n",
       "      <td>1.116039</td>\n",
       "      <td>-0.616964</td>\n",
       "      <td>-1.130579</td>\n",
       "      <td>1.024218</td>\n",
       "      <td>1.042763</td>\n",
       "      <td>-0.090402</td>\n",
       "      <td>0.049674</td>\n",
       "      <td>-1.507438</td>\n",
       "      <td>-1.764537</td>\n",
       "      <td>-0.195492</td>\n",
       "      <td>0.423485</td>\n",
       "      <td>0.145005</td>\n",
       "      <td>-0.113882</td>\n",
       "      <td>-0.139463</td>\n",
       "      <td>0.478129</td>\n",
       "      <td>0.548092</td>\n",
       "      <td>0.367777</td>\n",
       "      <td>0.343625</td>\n",
       "      <td>0.641347</td>\n",
       "      <td>0.069004</td>\n",
       "      <td>0.082101</td>\n",
       "      <td>-0.215580</td>\n",
       "      <td>0.078288</td>\n",
       "      <td>0.081052</td>\n",
       "      <td>0.034549</td>\n",
       "      <td>-0.811019</td>\n",
       "      <td>0.657379</td>\n",
       "      <td>-0.466201</td>\n",
       "      <td>1.449841</td>\n",
       "      <td>0.170922</td>\n",
       "      <td>0.042121</td>\n",
       "      <td>0.339868</td>\n",
       "      <td>1.037797</td>\n",
       "      <td>0.0</td>\n",
       "      <td>1.0</td>\n",
       "    </tr>\n",
       "    <tr>\n",
       "      <th>2</th>\n",
       "      <td>20080214</td>\n",
       "      <td>AAN US Equity</td>\n",
       "      <td>2550</td>\n",
       "      <td>0.000000</td>\n",
       "      <td>True</td>\n",
       "      <td>0.102639</td>\n",
       "      <td>False</td>\n",
       "      <td>0.699089</td>\n",
       "      <td>0.640614</td>\n",
       "      <td>0.803338</td>\n",
       "      <td>-0.177193</td>\n",
       "      <td>0.768082</td>\n",
       "      <td>-0.948039</td>\n",
       "      <td>-0.787746</td>\n",
       "      <td>0.224786</td>\n",
       "      <td>-0.706792</td>\n",
       "      <td>0.810945</td>\n",
       "      <td>0.104071</td>\n",
       "      <td>-0.971549</td>\n",
       "      <td>-0.300791</td>\n",
       "      <td>-0.107117</td>\n",
       "      <td>2.036342</td>\n",
       "      <td>-2.962579</td>\n",
       "      <td>-0.303110</td>\n",
       "      <td>0.221689</td>\n",
       "      <td>0.373609</td>\n",
       "      <td>0.923508</td>\n",
       "      <td>-0.435132</td>\n",
       "      <td>0.287328</td>\n",
       "      <td>-1.192507</td>\n",
       "      <td>0.542157</td>\n",
       "      <td>-0.805092</td>\n",
       "      <td>-1.935386</td>\n",
       "      <td>1.306399</td>\n",
       "      <td>-2.065115</td>\n",
       "      <td>0.532074</td>\n",
       "      <td>-0.593705</td>\n",
       "      <td>0.523305</td>\n",
       "      <td>-0.527815</td>\n",
       "      <td>-1.058531</td>\n",
       "      <td>0.101127</td>\n",
       "      <td>0.0</td>\n",
       "      <td>1.0</td>\n",
       "    </tr>\n",
       "    <tr>\n",
       "      <th>3</th>\n",
       "      <td>20080214</td>\n",
       "      <td>AAON US Equity</td>\n",
       "      <td>2010</td>\n",
       "      <td>-0.046684</td>\n",
       "      <td>True</td>\n",
       "      <td>0.013005</td>\n",
       "      <td>False</td>\n",
       "      <td>-1.074841</td>\n",
       "      <td>-0.096364</td>\n",
       "      <td>-0.091706</td>\n",
       "      <td>-0.331058</td>\n",
       "      <td>1.208945</td>\n",
       "      <td>-1.732725</td>\n",
       "      <td>-0.621379</td>\n",
       "      <td>0.889487</td>\n",
       "      <td>-0.669659</td>\n",
       "      <td>1.237932</td>\n",
       "      <td>0.371761</td>\n",
       "      <td>-1.195792</td>\n",
       "      <td>-1.537159</td>\n",
       "      <td>-0.812690</td>\n",
       "      <td>0.211680</td>\n",
       "      <td>-1.087002</td>\n",
       "      <td>-2.045832</td>\n",
       "      <td>1.648651</td>\n",
       "      <td>1.310390</td>\n",
       "      <td>0.055856</td>\n",
       "      <td>-0.526996</td>\n",
       "      <td>0.884772</td>\n",
       "      <td>0.519695</td>\n",
       "      <td>0.573596</td>\n",
       "      <td>-1.492775</td>\n",
       "      <td>-0.691333</td>\n",
       "      <td>0.782537</td>\n",
       "      <td>-0.145668</td>\n",
       "      <td>1.478548</td>\n",
       "      <td>1.629201</td>\n",
       "      <td>-1.186070</td>\n",
       "      <td>-1.054264</td>\n",
       "      <td>0.029782</td>\n",
       "      <td>0.089869</td>\n",
       "      <td>0.0</td>\n",
       "      <td>0.0</td>\n",
       "    </tr>\n",
       "    <tr>\n",
       "      <th>4</th>\n",
       "      <td>20080214</td>\n",
       "      <td>AAP US Equity</td>\n",
       "      <td>2550</td>\n",
       "      <td>-0.040387</td>\n",
       "      <td>True</td>\n",
       "      <td>0.064812</td>\n",
       "      <td>False</td>\n",
       "      <td>-0.835580</td>\n",
       "      <td>0.329595</td>\n",
       "      <td>0.635282</td>\n",
       "      <td>0.057801</td>\n",
       "      <td>-0.559927</td>\n",
       "      <td>-1.075341</td>\n",
       "      <td>-1.490842</td>\n",
       "      <td>-0.724744</td>\n",
       "      <td>-1.066548</td>\n",
       "      <td>1.499499</td>\n",
       "      <td>-1.099374</td>\n",
       "      <td>0.724629</td>\n",
       "      <td>0.184631</td>\n",
       "      <td>0.039916</td>\n",
       "      <td>-0.076214</td>\n",
       "      <td>0.578137</td>\n",
       "      <td>0.130947</td>\n",
       "      <td>-0.632575</td>\n",
       "      <td>-0.747810</td>\n",
       "      <td>0.097608</td>\n",
       "      <td>0.166131</td>\n",
       "      <td>-0.439144</td>\n",
       "      <td>0.964655</td>\n",
       "      <td>1.230328</td>\n",
       "      <td>-0.651964</td>\n",
       "      <td>-0.062124</td>\n",
       "      <td>-0.844002</td>\n",
       "      <td>-0.495810</td>\n",
       "      <td>-0.335421</td>\n",
       "      <td>-0.517209</td>\n",
       "      <td>0.466003</td>\n",
       "      <td>0.442235</td>\n",
       "      <td>-0.078167</td>\n",
       "      <td>0.179575</td>\n",
       "      <td>0.0</td>\n",
       "      <td>1.0</td>\n",
       "    </tr>\n",
       "  </tbody>\n",
       "</table>\n",
       "</div>"
      ],
      "text/plain": [
       "       date              id  ...  isJan  target\n",
       "0  20080214     A US Equity  ...    0.0     0.0\n",
       "1  20080214    AA US Equity  ...    0.0     1.0\n",
       "2  20080214   AAN US Equity  ...    0.0     1.0\n",
       "3  20080214  AAON US Equity  ...    0.0     0.0\n",
       "4  20080214   AAP US Equity  ...    0.0     1.0\n",
       "\n",
       "[5 rows x 43 columns]"
      ]
     },
     "execution_count": 8,
     "metadata": {
      "tags": []
     },
     "output_type": "execute_result"
    }
   ],
   "source": [
    "data.head()"
   ]
  },
  {
   "cell_type": "markdown",
   "metadata": {
    "colab_type": "text",
    "id": "-YBfQRvhUSHe"
   },
   "source": [
    "### 33 Model Input Features (momentum driven features):\n",
    "\n",
    "\n",
    "'ret_raw_norm_lag_21',\n",
    "'ret_raw_norm_lag_22', 'ret_raw_norm_lag_23', 'ret_raw_norm_lag_24',\n",
    "'ret_raw_norm_lag_25', 'ret_raw_norm_lag_26', 'ret_raw_norm_lag_27',\n",
    "'ret_raw_norm_lag_28', 'ret_raw_norm_lag_29', 'ret_raw_norm_lag_30',\n",
    "'ret_raw_norm_lag_31', 'ret_raw_norm_lag_32', 'ret_raw_norm_lag_33',\n",
    "'ret_raw_norm_lag_34', 'ret_raw_norm_lag_35', 'ret_raw_norm_lag_36',\n",
    "'ret_raw_norm_lag_37', 'ret_raw_norm_lag_38', 'ret_raw_norm_lag_39',\n",
    "'ret_raw_norm_lag_40', 'ret_20_raw_norm_lag_41_60',\n",
    "'ret_20_raw_norm_lag_61_80', 'ret_20_raw_norm_lag_81_100',\n",
    "'ret_20_raw_norm_lag_101_120', 'ret_20_raw_norm_lag_121_140',\n",
    "'ret_20_raw_norm_lag_141_160', 'ret_20_raw_norm_lag_161_180',\n",
    "'ret_20_raw_norm_lag_181_200', 'ret_20_raw_norm_lag_201_220',\n",
    "'ret_20_raw_norm_lag_221_240', 'ret_20_raw_norm_lag_241_260',\n",
    "'ret_20_raw_norm_lag_261_280', 'isJan',\n",
    "\n"
   ]
  },
  {
   "cell_type": "markdown",
   "metadata": {
    "colab_type": "text",
    "id": "kAAJRB0SUSHh"
   },
   "source": [
    "### Model Output/Target\n",
    "\n",
    "'target'"
   ]
  },
  {
   "cell_type": "markdown",
   "metadata": {
    "colab_type": "text",
    "id": "SHaEwsNdUSHj"
   },
   "source": [
    "### Logistic Regression - Baseline Strategy\n",
    "Use 5 years data for training and subsequent 1 year data for testing"
   ]
  },
  {
   "cell_type": "code",
   "execution_count": 50,
   "metadata": {
    "colab": {
     "base_uri": "https://localhost:8080/",
     "height": 34
    },
    "colab_type": "code",
    "id": "IIT8wcQKUSHm",
    "outputId": "ef1d84d3-4aa4-4939-c760-66e1d6508538"
   },
   "outputs": [
    {
     "name": "stdout",
     "output_type": "stream",
     "text": [
      "result_2012\n"
     ]
    }
   ],
   "source": [
    "for i in (range (2012,2013)):  # i = 2012\n",
    "    train=data[(data.date<=int(str(i)+'1231'))&(data.date>=int(str(i-4)+'0101'))]  #from 20080101 to 20121231\n",
    "    train=train.dropna()\n",
    "    train.index=range(len(train))\n",
    "    #globals()['train_{}'.format(i)]=train.copy()\n",
    "    \n",
    "    test=data[(data.date<=int(str(i+1)+'1231'))&(data.date>=int(str(i+1)+'0101'))] #from 20130101 to 20131231\n",
    "    test=test.dropna()\n",
    "    test.index=range(len(test))\n",
    "    #globals()['test_{}'.format(i)]=test.copy() \n",
    "    \n",
    "    X_train=np.asarray(train.loc[:,'ret_raw_norm_lag_21':'isJan'])\n",
    "    Y_train=np.asarray(train.loc[:,'target'])\n",
    "    \n",
    "    X_test=np.asarray(test.loc[:,'ret_raw_norm_lag_21':'isJan'])\n",
    "    Y_test=np.asarray(test.loc[:,'target'])\n",
    "    \n",
    "    clf=LogisticRegression(n_jobs=-1, solver='lbfgs')\n",
    "    clf.fit(X_train, Y_train)\n",
    "    #res=pd.concat((test.loc[:,['id','date','target']], pd.DataFrame(clf.predict_proba(X_test))),axis=1)\n",
    "    res=pd.concat((train.loc[:,['id','date','target']], pd.DataFrame(clf.predict_proba(X_train))),axis=1) # in_sample\n",
    "    res.columns=[\"id\",\"date\",'target',\"pred_zsprob_comp\",\"Alp\"]\n",
    "    res.index=range(len(res))\n",
    "    globals()[\"result_{}\".format(i)]=res.copy()\n",
    "    print(\"result_{}\".format(i))"
   ]
  },
  {
   "cell_type": "code",
   "execution_count": 51,
   "metadata": {
    "colab": {
     "base_uri": "https://localhost:8080/",
     "height": 102
    },
    "colab_type": "code",
    "id": "m36GW6B0USHw",
    "outputId": "8c747671-a9e6-49b3-e9fe-8e0a956ebb0e"
   },
   "outputs": [
    {
     "name": "stdout",
     "output_type": "stream",
     "text": [
      "result_2013\n",
      "result_2014\n",
      "result_2015\n",
      "result_2016\n",
      "result_2017\n"
     ]
    }
   ],
   "source": [
    "for i in range (2012,2017): # i = 2012,2013,2014,2015,2016\n",
    "    train=data[(data.date<=int(str(i)+'1231'))&(data.date>=int(str(i-4)+'0101'))]\n",
    "    train=train.dropna()\n",
    "    train.index=range(len(train))\n",
    "    #globals()['train_{}'.format(i)]=train.copy()\n",
    "    \n",
    "    test=data[(data.date<=int(str(i+1)+'1231'))&(data.date>=int(str(i+1)+'0101'))]\n",
    "    test=test.dropna()\n",
    "    test.index=range(len(test))\n",
    "    #globals()['test_{}'.format(i)]=test.copy() \n",
    "    \n",
    "    X_train=np.asarray(train.loc[:,'ret_raw_norm_lag_21':'isJan'])\n",
    "    Y_train=np.asarray(train.loc[:,'target'])\n",
    "    \n",
    "    X_test=np.asarray(test.loc[:,'ret_raw_norm_lag_21':'isJan'])\n",
    "    Y_test=np.asarray(test.loc[:,'target'])\n",
    "    \n",
    "    clf=LogisticRegression(n_jobs=-1, solver='lbfgs')\n",
    "    clf.fit(X_train, Y_train)\n",
    "    res=pd.concat((test.loc[:,['id','date','target']], pd.DataFrame(clf.predict_proba(X_test))),axis=1)\n",
    "    #res=pd.concat((train.loc[:,['id','date','target']], pd.DataFrame(clf.predict_proba(X_train))),axis=1) # in_sample\n",
    "    res.columns=[\"id\",\"date\",'target',\"pred_zsprob_comp\",\"Alp\"]\n",
    "    res.index=range(len(res))\n",
    "    globals()[\"result_{}\".format(i+1)]=res.copy()\n",
    "    print(\"result_{}\".format(i+1))"
   ]
  },
  {
   "cell_type": "code",
   "execution_count": 0,
   "metadata": {
    "colab": {},
    "colab_type": "code",
    "id": "mKcZzp4mUSH4"
   },
   "outputs": [],
   "source": [
    "RES=result_2012\n",
    "for i in range(2013,2018):\n",
    "    RES=pd.concat((RES,globals()[\"result_{}\".format(i)]),axis=0)\n",
    "\n",
    "tt=RES.merge(data.loc[:,[\"id\",\"date\",\"ret_raw\",\"ret_20_raw\",\"industry\",\"flag2\"]],left_on=[\"date\",\"id\"],right_on=[\"date\",\"id\"],how=\"left\")"
   ]
  },
  {
   "cell_type": "markdown",
   "metadata": {
    "colab_type": "text",
    "id": "sUqWmWPmUSIG"
   },
   "source": [
    "### Your Model\n",
    "\n",
    "Use 5 years data for training and subsequent 1 year data for testing. For cross-validation, do 90/10 split of your training data to obtain optimal hyper-parameters.  "
   ]
  },
  {
   "cell_type": "markdown",
   "metadata": {
    "colab_type": "text",
    "id": "xaHCdsp8WA9J"
   },
   "source": [
    "### Random Forest Model"
   ]
  },
  {
   "cell_type": "code",
   "execution_count": 0,
   "metadata": {
    "colab": {},
    "colab_type": "code",
    "id": "rPDM3qGNUSIK"
   },
   "outputs": [],
   "source": [
    "from sklearn.ensemble import RandomForestClassifier"
   ]
  },
  {
   "cell_type": "code",
   "execution_count": 0,
   "metadata": {
    "colab": {},
    "colab_type": "code",
    "id": "cfAONTMVWbLG"
   },
   "outputs": [],
   "source": [
    "def RunRandomForest(n_estimators=10,max_depth=None,min_samples_split=2):\n",
    "    np.random.seed(42)\n",
    "    i=2012\n",
    "    train=data[(data.date<=int(str(i-1)+'1231'))&(data.date>=int(str(i-4)+'0101'))]  #from 20080101 to 20121231\n",
    "\n",
    "    train=train.dropna()\n",
    "    train.index=range(len(train))\n",
    "    #globals()['train_{}'.format(i)]=train.copy()\n",
    "    \n",
    "    test=data[(data.date<=int(str(i)+'1231'))&(data.date>=int(str(i)+'0101'))] #from 20130101 to 20131231\n",
    "    test=test.dropna()\n",
    "    test.index=range(len(test))\n",
    "    #globals()['test_{}'.format(i)]=test.copy() \n",
    "    \n",
    "    X_train=np.asarray(train.loc[:,'ret_raw_norm_lag_21':'isJan'])\n",
    "    Y_train=np.asarray(train.loc[:,'target'])\n",
    "    \n",
    "    X_test=np.asarray(test.loc[:,'ret_raw_norm_lag_21':'isJan'])\n",
    "    Y_test=np.asarray(test.loc[:,'target'])\n",
    "    \n",
    "    clf=RandomForestClassifier(n_estimators=n_estimators,max_depth=None,min_samples_split=min_samples_split,n_jobs=-1)\n",
    "    clf.fit(X_train, Y_train)\n",
    "    \n",
    "    X_train_predict=clf.predict_proba(X_train)\n",
    "    inAcc=np.mean((X_train_predict[:,1]>=0.5)==(Y_train))\n",
    "    inCroEntro = -np.mean(np.log(X_train_predict[:,1]+0.0001)*Y_train+(1-Y_train)*np.log(1-X_train_predict[:,1]+0.0001))\n",
    "    X_test_predict=clf.predict_proba(X_test)\n",
    "    outAcc=np.mean((X_test_predict[:,1]>=0.5)==(Y_test))\n",
    "    outCroEntro = -np.mean(np.log(X_test_predict[:,1]+0.0001)*Y_test+(1-Y_test)*np.log(1-X_test_predict[:,1]+0.0001))\n",
    "    \n",
    "    ''''\n",
    "    We could use code here for cross validation. But it is not reasonable to apply cross validation for time series data because it is meaning less to use today's data to predict yesterday's result.\n",
    "    from sklearn.model_selection import cross_val_score\n",
    "    \n",
    "    outCroEntro = cross_val_score(clf, X_train, Y_train, cv=10)\n",
    "    outAcc = np.mean((cross_val_predict(clf,X_train, Y_train, cv=10))==(Y_train))\n",
    "    \n",
    "    ''''\n",
    "    \n",
    "    print(\"n_estimators=\",n_estimators,\"max_depth=\",max_depth,\"min_samples_split=\",min_samples_split)\n",
    "    print(inAcc,outAcc,inCroEntro,outCroEntro)\n",
    "\n",
    "    return np.array([[inAcc,outAcc,inCroEntro,outCroEntro]])"
   ]
  },
  {
   "cell_type": "markdown",
   "metadata": {
    "colab_type": "text",
    "id": "X6KD2iqqWR0R"
   },
   "source": [
    "### Default Random Rorest"
   ]
  },
  {
   "cell_type": "code",
   "execution_count": 19,
   "metadata": {
    "colab": {
     "base_uri": "https://localhost:8080/",
     "height": 68
    },
    "colab_type": "code",
    "id": "2lZ7arKxWPIw",
    "outputId": "7ecdfa4b-fd65-4789-e36d-5f45af3b51db"
   },
   "outputs": [
    {
     "name": "stdout",
     "output_type": "stream",
     "text": [
      "n_estimators= 10 max_depth= None min_samples_split= 2\n",
      "0.9868888203979149 0.50286040416226 0.2113187822303945 0.7588914227232516\n"
     ]
    },
    {
     "data": {
      "text/plain": [
       "array([[0.98688882, 0.5028604 , 0.21131878, 0.75889142]])"
      ]
     },
     "execution_count": 19,
     "metadata": {
      "tags": []
     },
     "output_type": "execute_result"
    }
   ],
   "source": [
    "RunRandomForest()"
   ]
  },
  {
   "cell_type": "markdown",
   "metadata": {
    "colab_type": "text",
    "id": "sjZ_ggz8XzOb"
   },
   "source": [
    "### Random Forest with Different min_samples_split"
   ]
  },
  {
   "cell_type": "code",
   "execution_count": 21,
   "metadata": {
    "colab": {
     "base_uri": "https://localhost:8080/",
     "height": 425
    },
    "colab_type": "code",
    "id": "GlZ0AW07USIO",
    "outputId": "2e42eb53-a95d-498d-f831-da69ccafab5b"
   },
   "outputs": [
    {
     "name": "stdout",
     "output_type": "stream",
     "text": [
      "n_estimators= 10 max_depth= None min_samples_split= 3\n",
      "0.9867042116930995 0.5036637517142138 0.2212460901322212 0.7552977828641494\n",
      "n_estimators= 10 max_depth= None min_samples_split= 10\n",
      "0.9703691144090659 0.5025168851753975 0.32119875139683146 0.7353298778098263\n",
      "n_estimators= 10 max_depth= None min_samples_split= 31\n",
      "0.9031311379423181 0.5048160280008548 0.47106845673924846 0.7156472832670515\n",
      "n_estimators= 10 max_depth= None min_samples_split= 100\n",
      "0.7843564326625884 0.5067608323438003 0.5909751803822249 0.7027522328671112\n",
      "n_estimators= 10 max_depth= None min_samples_split= 316\n",
      "0.684761224882718 0.5070042709959075 0.6484452241075883 0.6965098557767979\n",
      "n_estimators= 10 max_depth= None min_samples_split= 1000\n",
      "0.6147913565095169 0.5070637782219782 0.673445095033207 0.6942928074284365\n",
      "n_estimators= 10 max_depth= None min_samples_split= 3162\n",
      "0.570832300026384 0.5066526373873081 0.684299524387589 0.6932693034967647\n",
      "n_estimators= 10 max_depth= None min_samples_split= 10000\n",
      "0.5448571421780183 0.5054733123615442 0.6890301827817963 0.692880800483033\n",
      "n_estimators= 10 max_depth= None min_samples_split= 31622\n",
      "0.5293072261234787 0.5075209019131574 0.6909878390187065 0.6927458161492078\n",
      "n_estimators= 10 max_depth= None min_samples_split= 100000\n",
      "0.5221383868051522 0.5072206609088917 0.6919481428523151 0.6927168457622762\n",
      "n_estimators= 10 max_depth= None min_samples_split= 316227\n",
      "0.517050951210217 0.5062198575613398 0.6924345481767877 0.6928472074177284\n",
      "n_estimators= 10 max_depth= None min_samples_split= 1000000\n",
      "0.49999643459582976 0.5014051819974412 0.6929472126591457 0.6929467939568282\n"
     ]
    }
   ],
   "source": [
    "result=RunRandomForest(min_samples_split=int(10**0.5))\n",
    "for i in range(10,65,5):\n",
    "  result = np.concatenate((result,RunRandomForest(min_samples_split=int(10**(i/10)))),axis=0)"
   ]
  },
  {
   "cell_type": "code",
   "execution_count": 0,
   "metadata": {
    "colab": {},
    "colab_type": "code",
    "id": "znvpMp-ZaZn5"
   },
   "outputs": [],
   "source": [
    "result1=result.copy()"
   ]
  },
  {
   "cell_type": "code",
   "execution_count": 24,
   "metadata": {
    "colab": {
     "base_uri": "https://localhost:8080/",
     "height": 284
    },
    "colab_type": "code",
    "id": "K9i9vieGadO6",
    "outputId": "018c63a0-2ce8-4b18-e417-5c10d128c7fd"
   },
   "outputs": [
    {
     "data": {
      "image/png": "[encoded data removed]",
      "text/plain": [
       "<Figure size 432x288 with 1 Axes>"
      ]
     },
     "metadata": {
      "tags": []
     },
     "output_type": "display_data"
    }
   ],
   "source": [
    "fig = plt.figure()\n",
    "ax  = fig.add_subplot(1,1,1)\n",
    "\n",
    "_ = ax.plot(np.linspace(0.5,6,12),result1[:,0],label=\"Training Accuracy\")\n",
    "_ = ax.plot(np.linspace(0.5,6,12),result1[:,1],label=\"Validation Accuracy\")\n",
    "_ = ax.set_xlabel(\"Log of Min_samples_split\")\n",
    "_ = ax.set_ylabel(\"Accuracy\")\n",
    "_ = ax.legend()"
   ]
  },
  {
   "cell_type": "code",
   "execution_count": 25,
   "metadata": {
    "colab": {
     "base_uri": "https://localhost:8080/",
     "height": 284
    },
    "colab_type": "code",
    "id": "iiCU7n7PapYc",
    "outputId": "a461a783-3acd-4cae-ccad-e4fae38aa6a1"
   },
   "outputs": [
    {
     "data": {
      "image/png": "[encoded data removed]",
      "text/plain": [
       "<Figure size 432x288 with 1 Axes>"
      ]
     },
     "metadata": {
      "tags": []
     },
     "output_type": "display_data"
    }
   ],
   "source": [
    "fig = plt.figure()\n",
    "ax  = fig.add_subplot(1,1,1)\n",
    "\n",
    "_ = ax.plot(np.linspace(0.5,6.0,12),result1[:,3],label=\"Validation Cross Entropy\")\n",
    "_ = ax.set_xlabel(\"Log of Min_samples_split\")\n",
    "_ = ax.set_ylabel(\"Cross Entropy\")\n",
    "_ = ax.legend()"
   ]
  },
  {
   "cell_type": "markdown",
   "metadata": {
    "colab_type": "text",
    "id": "Lrk0Na6waRh4"
   },
   "source": [
    "### Random Forest with Different Max_depth"
   ]
  },
  {
   "cell_type": "code",
   "execution_count": 14,
   "metadata": {
    "colab": {
     "base_uri": "https://localhost:8080/",
     "height": 323
    },
    "colab_type": "code",
    "id": "uZ1Y799-USIT",
    "outputId": "3da7180b-74bf-4376-96ab-f3a86f1238e5"
   },
   "outputs": [
    {
     "name": "stdout",
     "output_type": "stream",
     "text": [
      "n_estimators= 10 max_depth= 50 min_samples_split= 10000\n",
      "0.5448571421780183 0.5054733123615442 0.6890301827817963 0.6928808004830329\n",
      "n_estimators= 10 max_depth= 100 min_samples_split= 10000\n",
      "0.5448571421780183 0.5054733123615442 0.6890301827817963 0.692880800483033\n",
      "n_estimators= 10 max_depth= 150 min_samples_split= 10000\n",
      "0.5448571421780183 0.5054733123615442 0.6890301827817963 0.692880800483033\n",
      "n_estimators= 10 max_depth= 200 min_samples_split= 10000\n",
      "0.5448571421780183 0.5054733123615442 0.6890301827817963 0.692880800483033\n",
      "n_estimators= 10 max_depth= 250 min_samples_split= 10000\n",
      "0.5448571421780183 0.5054733123615442 0.6890301827817963 0.692880800483033\n",
      "n_estimators= 10 max_depth= 300 min_samples_split= 10000\n",
      "0.5448571421780183 0.5054733123615442 0.6890301827817963 0.692880800483033\n",
      "n_estimators= 10 max_depth= 350 min_samples_split= 10000\n",
      "0.5448571421780183 0.5054733123615442 0.6890301827817963 0.692880800483033\n",
      "n_estimators= 10 max_depth= 400 min_samples_split= 10000\n",
      "0.5448571421780183 0.5054733123615442 0.6890301827817963 0.692880800483033\n",
      "n_estimators= 10 max_depth= 450 min_samples_split= 10000\n",
      "0.5448571421780183 0.5054733123615442 0.6890301827817963 0.692880800483033\n"
     ]
    }
   ],
   "source": [
    "result=RunRandomForest(max_depth=50,min_samples_split=10000)\n",
    "for i in range(100,500,50):\n",
    "  result = np.concatenate((result,RunRandomForest(max_depth=i,min_samples_split=10000)),axis=0)"
   ]
  },
  {
   "cell_type": "code",
   "execution_count": 0,
   "metadata": {
    "colab": {},
    "colab_type": "code",
    "id": "cZlQ8ycJUSIY"
   },
   "outputs": [],
   "source": [
    "result2=result.copy()"
   ]
  },
  {
   "cell_type": "code",
   "execution_count": 17,
   "metadata": {
    "colab": {
     "base_uri": "https://localhost:8080/",
     "height": 284
    },
    "colab_type": "code",
    "id": "zSDZGF-uUSIg",
    "outputId": "f21079fa-b951-4be5-8c3a-1841f421bbea"
   },
   "outputs": [
    {
     "data": {
      "image/png": "[encoded data removed]",
      "text/plain": [
       "<Figure size 432x288 with 1 Axes>"
      ]
     },
     "metadata": {
      "tags": []
     },
     "output_type": "display_data"
    }
   ],
   "source": [
    "fig = plt.figure()\n",
    "ax  = fig.add_subplot(1,1,1)\n",
    "\n",
    "_ = ax.plot(np.linspace(50,450,9),result[:,3],label=\"Validation Cross Entropy\")\n",
    "_ = ax.set_xlabel(\"Max_depth\")\n",
    "_ = ax.set_ylabel(\"Cross Entropy\")\n",
    "_ = ax.legend()"
   ]
  },
  {
   "cell_type": "markdown",
   "metadata": {
    "colab_type": "text",
    "id": "m15lO191bGzt"
   },
   "source": [
    "### Random Forest with Different N_estimator"
   ]
  },
  {
   "cell_type": "code",
   "execution_count": 19,
   "metadata": {
    "colab": {
     "base_uri": "https://localhost:8080/",
     "height": 289
    },
    "colab_type": "code",
    "id": "2lgPHboLUSIk",
    "outputId": "89da7ef2-4a24-4b3c-f082-8f0cd5cb5555"
   },
   "outputs": [
    {
     "name": "stdout",
     "output_type": "stream",
     "text": [
      "n_estimators= 10 max_depth= 10 min_samples_split= 10000\n",
      "0.5448571421780183 0.5054733123615442 0.6890301827817963 0.6928808004830329\n",
      "n_estimators= 20 max_depth= 10 min_samples_split= 10000\n",
      "0.5485928934364078 0.5058276508440559 0.6889365462340344 0.6927507858936273\n",
      "n_estimators= 30 max_depth= 10 min_samples_split= 10000\n",
      "0.5500071704239424 0.505757324122336 0.6888679789874288 0.6927109894086976\n",
      "n_estimators= 40 max_depth= 10 min_samples_split= 10000\n",
      "0.5507020280811232 0.505819536222319 0.6888482156345885 0.6927089513138892\n",
      "n_estimators= 50 max_depth= 10 min_samples_split= 10000\n",
      "0.551119576525062 0.506230677056989 0.6888245246172708 0.6926581082651706\n",
      "n_estimators= 60 max_depth= 10 min_samples_split= 10000\n",
      "0.5512447618270399 0.5055598683267379 0.6888151092311952 0.6926820608479316\n",
      "n_estimators= 70 max_depth= 10 min_samples_split= 10000\n",
      "0.5516084330524059 0.5052109395920509 0.6888193112904593 0.6926958856106489\n",
      "n_estimators= 80 max_depth= 10 min_samples_split= 10000\n",
      "0.552186820840025 0.5053732320267891 0.6888022179760137 0.6926825210726683\n"
     ]
    }
   ],
   "source": [
    "result=RunRandomForest(n_estimators=10,max_depth=10,min_samples_split=10000)\n",
    "for i in range(20,90,10):\n",
    "  result = np.concatenate((result,RunRandomForest(n_estimators=i,max_depth=10,min_samples_split=10000)),axis=0)"
   ]
  },
  {
   "cell_type": "code",
   "execution_count": 0,
   "metadata": {
    "colab": {},
    "colab_type": "code",
    "id": "ElTYtH5tWnaI"
   },
   "outputs": [],
   "source": [
    "result3=result.copy()"
   ]
  },
  {
   "cell_type": "code",
   "execution_count": 23,
   "metadata": {
    "colab": {
     "base_uri": "https://localhost:8080/",
     "height": 284
    },
    "colab_type": "code",
    "id": "2SugS97SbbNL",
    "outputId": "4d735972-d874-44bb-863d-3f35b544120f"
   },
   "outputs": [
    {
     "data": {
      "image/png": "[encoded data removed]",
      "text/plain": [
       "<Figure size 432x288 with 1 Axes>"
      ]
     },
     "metadata": {
      "tags": []
     },
     "output_type": "display_data"
    }
   ],
   "source": [
    "fig = plt.figure()\n",
    "ax  = fig.add_subplot(1,1,1)\n",
    "\n",
    "_ = ax.plot(np.linspace(10,80,8),result3[:,3],label=\"Validation Cross Entropy\")\n",
    "_ = ax.set_xlabel(\"n_estimators\")\n",
    "_ = ax.set_ylabel(\"Cross Entropy\")\n",
    "_ = ax.legend()"
   ]
  },
  {
   "cell_type": "markdown",
   "metadata": {
    "colab_type": "text",
    "id": "Rl6hMz3ZbxOA"
   },
   "source": [
    "### Final Random Forest Model"
   ]
  },
  {
   "cell_type": "code",
   "execution_count": 24,
   "metadata": {
    "colab": {
     "base_uri": "https://localhost:8080/",
     "height": 51
    },
    "colab_type": "code",
    "id": "6CtCERogb2BU",
    "outputId": "f6611a69-9f24-4d80-e3bc-802a6f556085"
   },
   "outputs": [
    {
     "name": "stdout",
     "output_type": "stream",
     "text": [
      "0.5395818932341074 0.5021936648998312 0.6904120650762661 0.6933965597089227\n",
      "result_2012\n"
     ]
    }
   ],
   "source": [
    "for i in range (2012,2013):  # i = 2012\n",
    "    train=data[(data.date<=int(str(i)+'1231'))&(data.date>=int(str(i-4)+'0101'))]  #from 20080101 to 20121231\n",
    "    train=train.dropna()\n",
    "    train.index=range(len(train))\n",
    "    #globals()['train_{}'.format(i)]=train.copy()\n",
    "    \n",
    "    test=data[(data.date<=int(str(i+1)+'1231'))&(data.date>=int(str(i+1)+'0101'))] #from 20130101 to 20131231\n",
    "    test=test.dropna()\n",
    "    test.index=range(len(test))\n",
    "    #globals()['test_{}'.format(i)]=test.copy() \n",
    "    \n",
    "    X_train=np.asarray(train.loc[:,'ret_raw_norm_lag_21':'isJan'])\n",
    "    Y_train=np.asarray(train.loc[:,'target'])\n",
    "    \n",
    "    X_test=np.asarray(test.loc[:,'ret_raw_norm_lag_21':'isJan'])\n",
    "    Y_test=np.asarray(test.loc[:,'target'])\n",
    "    \n",
    "    clf=RandomForestClassifier(n_estimators=50,max_depth=10,min_samples_split=10000,n_jobs=-1)\n",
    "    clf.fit(X_train, Y_train)\n",
    "    #res=pd.concat((test.loc[:,['id','date','target']], pd.DataFrame(clf.predict_proba(X_test))),axis=1)\n",
    "    res=pd.concat((train.loc[:,['id','date','target']], pd.DataFrame(clf.predict_proba(X_train))),axis=1) # in_sample\n",
    "    res.columns=[\"id\",\"date\",'target',\"pred_zsprob_comp\",\"Alp\"]\n",
    "    res.index=range(len(res))\n",
    "    \n",
    "    X_train_predict=clf.predict_proba(X_train)\n",
    "    inAcc=np.mean((X_train_predict[:,1]>=0.5)==(Y_train))\n",
    "    inCroEntro = -np.mean(np.log(X_train_predict[:,1])*Y_train+(1-Y_train)*np.log(1-X_train_predict[:,1]))\n",
    "    X_test_predict=clf.predict_proba(X_test)\n",
    "    outAcc=np.mean((X_test_predict[:,1]>=0.5)==(Y_test))\n",
    "    outCroEntro = -np.mean(np.log(X_test_predict[:,1])*Y_test+(1-Y_test)*np.log(1-X_test_predict[:,1]))\n",
    "    print(inAcc,outAcc,inCroEntro,outCroEntro)\n",
    "    \n",
    "    globals()[\"result_{}\".format(i)]=res.copy()\n",
    "    print(\"result_{}\".format(i))"
   ]
  },
  {
   "cell_type": "code",
   "execution_count": 25,
   "metadata": {
    "colab": {
     "base_uri": "https://localhost:8080/",
     "height": 102
    },
    "colab_type": "code",
    "id": "_vzYW9qEb5tU",
    "outputId": "dbd27456-0c3d-46e0-e9b0-42eacd4ee141"
   },
   "outputs": [
    {
     "name": "stdout",
     "output_type": "stream",
     "text": [
      "result_2013\n",
      "result_2014\n",
      "result_2015\n",
      "result_2016\n",
      "result_2017\n"
     ]
    }
   ],
   "source": [
    "for i in range (2012,2017): # i = 2012,2013,2014,2015,2016\n",
    "    train=data[(data.date<=int(str(i)+'1231'))&(data.date>=int(str(i-4)+'0101'))]\n",
    "    train=train.dropna()\n",
    "    train.index=range(len(train))\n",
    "    #globals()['train_{}'.format(i)]=train.copy()\n",
    "    \n",
    "    test=data[(data.date<=int(str(i+1)+'1231'))&(data.date>=int(str(i+1)+'0101'))]\n",
    "    test=test.dropna()\n",
    "    test.index=range(len(test))\n",
    "    #globals()['test_{}'.format(i)]=test.copy() \n",
    "    \n",
    "    X_train=np.asarray(train.loc[:,'ret_raw_norm_lag_21':'isJan'])\n",
    "    Y_train=np.asarray(train.loc[:,'target'])\n",
    "    \n",
    "    X_test=np.asarray(test.loc[:,'ret_raw_norm_lag_21':'isJan'])\n",
    "    Y_test=np.asarray(test.loc[:,'target'])\n",
    "    \n",
    "    clf=RandomForestClassifier(n_estimators=50,max_depth=10,min_samples_split=10000,n_jobs=-1)\n",
    "    clf.fit(X_train, Y_train)\n",
    "    res=pd.concat((test.loc[:,['id','date','target']], pd.DataFrame(clf.predict_proba(X_test))),axis=1)\n",
    "    #res=pd.concat((train.loc[:,['id','date','target']], pd.DataFrame(clf.predict_proba(X_train))),axis=1) # in_sample\n",
    "    res.columns=[\"id\",\"date\",'target',\"pred_zsprob_comp\",\"Alp\"]\n",
    "    res.index=range(len(res))\n",
    "    globals()[\"result_{}\".format(i+1)]=res.copy()\n",
    "    print(\"result_{}\".format(i+1))"
   ]
  },
  {
   "cell_type": "code",
   "execution_count": 0,
   "metadata": {
    "colab": {},
    "colab_type": "code",
    "id": "0UPUEcS1cANj"
   },
   "outputs": [],
   "source": [
    "RES=result_2012\n",
    "for i in range(2013,2018):\n",
    "    RES=pd.concat((RES,globals()[\"result_{}\".format(i)]),axis=0)\n",
    "\n",
    "Random_Forest_tt=RES.merge(data.loc[:,[\"id\",\"date\",\"ret_raw\",\"ret_20_raw\",\"industry\",\"flag2\"]],left_on=[\"date\",\"id\"],right_on=[\"date\",\"id\"],how=\"left\")"
   ]
  },
  {
   "cell_type": "markdown",
   "metadata": {
    "colab_type": "text",
    "id": "rdn637BTWpuh"
   },
   "source": [
    "### Neuron Network"
   ]
  },
  {
   "cell_type": "code",
   "execution_count": 0,
   "metadata": {
    "colab": {},
    "colab_type": "code",
    "id": "woc0vCIGWuF8"
   },
   "outputs": [],
   "source": [
    "import tensorflow as tf"
   ]
  },
  {
   "cell_type": "code",
   "execution_count": 0,
   "metadata": {
    "colab": {},
    "colab_type": "code",
    "id": "HsILcrrFma2g"
   },
   "outputs": [],
   "source": [
    "def reset_graph(seed=42):\n",
    "    tf.reset_default_graph()\n",
    "    tf.set_random_seed(seed)\n",
    "    np.random.seed(seed)\n",
    "    \n",
    "    \n",
    "def shuffle_batch(X, y, batch_size):\n",
    "    rnd_idx = np.random.permutation(len(X))\n",
    "    n_batches = len(X) // batch_size\n",
    "    for batch_idx in np.array_split(rnd_idx, n_batches):\n",
    "        X_batch, y_batch = X[batch_idx], y[batch_idx]\n",
    "        yield X_batch, y_batch"
   ]
  },
  {
   "cell_type": "code",
   "execution_count": 0,
   "metadata": {
    "colab": {},
    "colab_type": "code",
    "id": "sXerU_RrmdaC"
   },
   "outputs": [],
   "source": [
    "n_inputs = 33\n",
    "batch_size = 10000\n",
    "n_outputs = 2"
   ]
  },
  {
   "cell_type": "markdown",
   "metadata": {
    "colab_type": "text",
    "id": "-nelbyGamoZS"
   },
   "source": [
    "Simple DNN to Determine Number of Epochs"
   ]
  },
  {
   "cell_type": "code",
   "execution_count": 0,
   "metadata": {
    "colab": {},
    "colab_type": "code",
    "id": "9oLUEhkPmumm"
   },
   "outputs": [],
   "source": [
    "def RunDNN1(n_hidden1 = 20,n_hidden2 = 20,n_epochs = 100):\n",
    "  reset_graph()\n",
    "\n",
    "  X = tf.placeholder(tf.float32, shape=(None, n_inputs), name=\"X\")\n",
    "  y = tf.placeholder(tf.int32, shape=(None), name=\"y\")\n",
    "\n",
    "  with tf.name_scope(\"dnn\"):\n",
    "    hidden1 = tf.layers.dense(X, n_hidden1, name=\"hidden1\",\n",
    "                              activation=tf.nn.relu)\n",
    "    hidden2 = tf.layers.dense(hidden1, n_hidden2, name=\"hidden2\",\n",
    "                              activation=tf.nn.relu)\n",
    "    logits = tf.layers.dense(hidden2, n_outputs, name=\"outputs\")\n",
    "    y_proba = tf.nn.softmax(logits)\n",
    "\n",
    "  with tf.name_scope(\"loss\"):\n",
    "    xentropy = tf.nn.sparse_softmax_cross_entropy_with_logits(labels=y, logits=logits)\n",
    "    loss = tf.reduce_mean(xentropy, name=\"loss\")\n",
    "\n",
    "  learning_rate = 0.01\n",
    "\n",
    "  with tf.name_scope(\"train\"):\n",
    "    optimizer = tf.train.GradientDescentOptimizer(learning_rate)\n",
    "    training_op = optimizer.minimize(loss)\n",
    "\n",
    "  with tf.name_scope(\"eval\"):\n",
    "    correct = tf.nn.in_top_k(logits, y, 1)\n",
    "    accuracy = tf.reduce_mean(tf.cast(correct, tf.float32))\n",
    "\n",
    "  init = tf.global_variables_initializer()\n",
    "  saver = tf.train.Saver()\n",
    "  \n",
    "  loss_valid_result = np.zeros(100)\n",
    "  loss_train_result = np.zeros(100)\n",
    "\n",
    "\n",
    "  with tf.Session() as sess:\n",
    "    init.run()\n",
    "    for epoch in range(n_epochs):\n",
    "      for X_batch, y_batch in shuffle_batch(X_train, Y_train, batch_size):\n",
    "        sess.run(training_op, feed_dict={X: X_batch, y: y_batch})\n",
    "        \n",
    "      acc_train = accuracy.eval(feed_dict={X: X_train, y: Y_train})\n",
    "      acc_valid = accuracy.eval(feed_dict={X: X_test, y: Y_test})\n",
    "      loss_train = loss.eval(feed_dict={X: X_train, y: Y_train})\n",
    "      loss_valid = loss.eval(feed_dict={X: X_test, y: Y_test})\n",
    "      print(epoch, \"Batch accuracy:\", acc_train, \"Validation accuracy:\", acc_valid,\"Batch entropy:\",loss_train,\"Validation entropy:\",loss_valid)\n",
    "      prob_train = y_proba.eval(feed_dict={X: X_train, y: Y_train})\n",
    "      prob_valid = y_proba.eval(feed_dict={X: X_test, y: Y_test})\n",
    "      loss_train_result[epoch]=loss_train\n",
    "      loss_valid_result[epoch]=loss_valid\n",
    "  return loss_train_result,loss_valid_result"
   ]
  },
  {
   "cell_type": "code",
   "execution_count": 31,
   "metadata": {
    "colab": {
     "base_uri": "https://localhost:8080/",
     "height": 1839
    },
    "colab_type": "code",
    "collapsed": true,
    "id": "PMEuxSqvmfz9",
    "outputId": "13056272-ea05-40a1-a76d-1699dc35c79a"
   },
   "outputs": [
    {
     "name": "stdout",
     "output_type": "stream",
     "text": [
      "WARNING:tensorflow:From <ipython-input-30-d6978e89927c>:9: dense (from tensorflow.python.layers.core) is deprecated and will be removed in a future version.\n",
      "Instructions for updating:\n",
      "Use keras.layers.dense instead.\n",
      "WARNING:tensorflow:From /usr/local/lib/python3.6/dist-packages/tensorflow/python/framework/op_def_library.py:263: colocate_with (from tensorflow.python.framework.ops) is deprecated and will be removed in a future version.\n",
      "Instructions for updating:\n",
      "Colocations handled automatically by placer.\n",
      "0 Batch accuracy: 0.5030167 Validation accuracy: 0.50715846 Batch entropy: 0.7128365 Validation entropy: 0.71215594\n",
      "1 Batch accuracy: 0.50314665 Validation accuracy: 0.50597644 Batch entropy: 0.7074902 Validation entropy: 0.7071249\n",
      "2 Batch accuracy: 0.5033408 Validation accuracy: 0.5060738 Batch entropy: 0.7044321 Validation entropy: 0.70426446\n",
      "3 Batch accuracy: 0.50322354 Validation accuracy: 0.50532997 Batch entropy: 0.7024621 Validation entropy: 0.70241356\n",
      "4 Batch accuracy: 0.5031197 Validation accuracy: 0.5050108 Batch entropy: 0.701101 Validation entropy: 0.70112735\n",
      "5 Batch accuracy: 0.5033939 Validation accuracy: 0.50439405 Batch entropy: 0.70010734 Validation entropy: 0.70018625\n",
      "6 Batch accuracy: 0.50333446 Validation accuracy: 0.5041506 Batch entropy: 0.6993475 Validation entropy: 0.69946486\n",
      "7 Batch accuracy: 0.50348896 Validation accuracy: 0.5040289 Batch entropy: 0.69874793 Validation entropy: 0.69889176\n",
      "8 Batch accuracy: 0.5035626 Validation accuracy: 0.50344735 Batch entropy: 0.69825953 Validation entropy: 0.69842434\n",
      "9 Batch accuracy: 0.5036173 Validation accuracy: 0.5034095 Batch entropy: 0.6978532 Validation entropy: 0.6980348\n",
      "10 Batch accuracy: 0.503794 Validation accuracy: 0.5033527 Batch entropy: 0.69750696 Validation entropy: 0.6977021\n",
      "11 Batch accuracy: 0.5038122 Validation accuracy: 0.5035231 Batch entropy: 0.6972076 Validation entropy: 0.6974187\n",
      "12 Batch accuracy: 0.50391126 Validation accuracy: 0.50337976 Batch entropy: 0.696945 Validation entropy: 0.6971662\n",
      "13 Batch accuracy: 0.50399125 Validation accuracy: 0.5032391 Batch entropy: 0.6967124 Validation entropy: 0.696943\n",
      "14 Batch accuracy: 0.5039469 Validation accuracy: 0.5031471 Batch entropy: 0.6965037 Validation entropy: 0.69674295\n",
      "15 Batch accuracy: 0.5040364 Validation accuracy: 0.50300103 Batch entropy: 0.6963144 Validation entropy: 0.69656456\n",
      "16 Batch accuracy: 0.5043082 Validation accuracy: 0.50272787 Batch entropy: 0.6961421 Validation entropy: 0.6964017\n",
      "17 Batch accuracy: 0.50448805 Validation accuracy: 0.5028063 Batch entropy: 0.695984 Validation entropy: 0.696252\n",
      "18 Batch accuracy: 0.5046259 Validation accuracy: 0.5025196 Batch entropy: 0.6958385 Validation entropy: 0.69611573\n",
      "19 Batch accuracy: 0.50464654 Validation accuracy: 0.50242764 Batch entropy: 0.695704 Validation entropy: 0.6959883\n",
      "20 Batch accuracy: 0.50474 Validation accuracy: 0.50245196 Batch entropy: 0.6955794 Validation entropy: 0.69587284\n",
      "21 Batch accuracy: 0.50475746 Validation accuracy: 0.5023979 Batch entropy: 0.6954635 Validation entropy: 0.695765\n",
      "22 Batch accuracy: 0.5047535 Validation accuracy: 0.50217605 Batch entropy: 0.69535565 Validation entropy: 0.69566405\n",
      "23 Batch accuracy: 0.5048795 Validation accuracy: 0.50210303 Batch entropy: 0.69525445 Validation entropy: 0.6955698\n",
      "24 Batch accuracy: 0.5048684 Validation accuracy: 0.5022275 Batch entropy: 0.6951593 Validation entropy: 0.6954808\n",
      "25 Batch accuracy: 0.50497055 Validation accuracy: 0.5023086 Batch entropy: 0.69506997 Validation entropy: 0.6953966\n",
      "26 Batch accuracy: 0.50512666 Validation accuracy: 0.50236 Batch entropy: 0.6949858 Validation entropy: 0.6953191\n",
      "27 Batch accuracy: 0.5051187 Validation accuracy: 0.5023519 Batch entropy: 0.6949065 Validation entropy: 0.6952444\n",
      "28 Batch accuracy: 0.50509655 Validation accuracy: 0.5023654 Batch entropy: 0.69483167 Validation entropy: 0.69517606\n",
      "29 Batch accuracy: 0.50515044 Validation accuracy: 0.50227344 Batch entropy: 0.6947608 Validation entropy: 0.69511074\n",
      "30 Batch accuracy: 0.505293 Validation accuracy: 0.5021842 Batch entropy: 0.6946934 Validation entropy: 0.6950472\n",
      "31 Batch accuracy: 0.50537145 Validation accuracy: 0.5020976 Batch entropy: 0.69462955 Validation entropy: 0.6949884\n",
      "32 Batch accuracy: 0.50534534 Validation accuracy: 0.5020138 Batch entropy: 0.6945689 Validation entropy: 0.69493353\n",
      "33 Batch accuracy: 0.5053659 Validation accuracy: 0.5020895 Batch entropy: 0.6945113 Validation entropy: 0.6948805\n",
      "34 Batch accuracy: 0.50543326 Validation accuracy: 0.50215715 Batch entropy: 0.69445646 Validation entropy: 0.6948283\n",
      "35 Batch accuracy: 0.50541586 Validation accuracy: 0.50214905 Batch entropy: 0.69440424 Validation entropy: 0.69478023\n",
      "36 Batch accuracy: 0.505503 Validation accuracy: 0.5020706 Batch entropy: 0.69435453 Validation entropy: 0.69473314\n",
      "37 Batch accuracy: 0.50547844 Validation accuracy: 0.50194883 Batch entropy: 0.69430727 Validation entropy: 0.6946909\n",
      "38 Batch accuracy: 0.5055181 Validation accuracy: 0.50199485 Batch entropy: 0.6942619 Validation entropy: 0.6946483\n",
      "39 Batch accuracy: 0.50558776 Validation accuracy: 0.50198674 Batch entropy: 0.6942186 Validation entropy: 0.69460773\n",
      "40 Batch accuracy: 0.50562817 Validation accuracy: 0.50205976 Batch entropy: 0.6941775 Validation entropy: 0.694568\n",
      "41 Batch accuracy: 0.5056876 Validation accuracy: 0.5019732 Batch entropy: 0.69413745 Validation entropy: 0.6945341\n",
      "42 Batch accuracy: 0.50575733 Validation accuracy: 0.5019407 Batch entropy: 0.6940992 Validation entropy: 0.69449854\n",
      "43 Batch accuracy: 0.5058286 Validation accuracy: 0.5018434 Batch entropy: 0.6940629 Validation entropy: 0.6944658\n",
      "44 Batch accuracy: 0.50596887 Validation accuracy: 0.50189203 Batch entropy: 0.6940279 Validation entropy: 0.69443244\n",
      "45 Batch accuracy: 0.50602674 Validation accuracy: 0.50192994 Batch entropy: 0.6939945 Validation entropy: 0.6944014\n",
      "46 Batch accuracy: 0.50615907 Validation accuracy: 0.5018623 Batch entropy: 0.6939622 Validation entropy: 0.6943714\n",
      "47 Batch accuracy: 0.5061994 Validation accuracy: 0.5018704 Batch entropy: 0.6939312 Validation entropy: 0.6943422\n",
      "48 Batch accuracy: 0.50620264 Validation accuracy: 0.50179195 Batch entropy: 0.6939014 Validation entropy: 0.69431525\n",
      "49 Batch accuracy: 0.5062834 Validation accuracy: 0.5018136 Batch entropy: 0.693873 Validation entropy: 0.69428843\n",
      "50 Batch accuracy: 0.5062811 Validation accuracy: 0.5016486 Batch entropy: 0.69384557 Validation entropy: 0.6942632\n",
      "51 Batch accuracy: 0.5063183 Validation accuracy: 0.50176764 Batch entropy: 0.6938194 Validation entropy: 0.69423807\n",
      "52 Batch accuracy: 0.5064094 Validation accuracy: 0.5016459 Batch entropy: 0.6937941 Validation entropy: 0.6942163\n",
      "53 Batch accuracy: 0.50655043 Validation accuracy: 0.5017433 Batch entropy: 0.6937699 Validation entropy: 0.69419366\n",
      "54 Batch accuracy: 0.506594 Validation accuracy: 0.5015594 Batch entropy: 0.69374645 Validation entropy: 0.6941723\n",
      "55 Batch accuracy: 0.5066946 Validation accuracy: 0.5014836 Batch entropy: 0.69372386 Validation entropy: 0.6941506\n",
      "56 Batch accuracy: 0.5067398 Validation accuracy: 0.50150526 Batch entropy: 0.6937019 Validation entropy: 0.69413084\n",
      "57 Batch accuracy: 0.50681746 Validation accuracy: 0.50155663 Batch entropy: 0.6936807 Validation entropy: 0.6941116\n",
      "58 Batch accuracy: 0.5067818 Validation accuracy: 0.50162154 Batch entropy: 0.69366074 Validation entropy: 0.6940909\n",
      "59 Batch accuracy: 0.506888 Validation accuracy: 0.50171626 Batch entropy: 0.6936406 Validation entropy: 0.6940744\n",
      "60 Batch accuracy: 0.5068832 Validation accuracy: 0.5016865 Batch entropy: 0.6936216 Validation entropy: 0.69405663\n",
      "61 Batch accuracy: 0.5068824 Validation accuracy: 0.5015837 Batch entropy: 0.6936032 Validation entropy: 0.69404066\n",
      "62 Batch accuracy: 0.50697196 Validation accuracy: 0.5015756 Batch entropy: 0.69358534 Validation entropy: 0.6940238\n",
      "63 Batch accuracy: 0.507048 Validation accuracy: 0.50159454 Batch entropy: 0.693568 Validation entropy: 0.6940071\n",
      "64 Batch accuracy: 0.5070013 Validation accuracy: 0.50176764 Batch entropy: 0.69355136 Validation entropy: 0.6939905\n",
      "65 Batch accuracy: 0.50712484 Validation accuracy: 0.50173515 Batch entropy: 0.69353527 Validation entropy: 0.69397646\n",
      "66 Batch accuracy: 0.5071859 Validation accuracy: 0.50188667 Batch entropy: 0.69351965 Validation entropy: 0.69396025\n",
      "67 Batch accuracy: 0.5072374 Validation accuracy: 0.5018515 Batch entropy: 0.6935044 Validation entropy: 0.69394815\n",
      "68 Batch accuracy: 0.5072984 Validation accuracy: 0.5018434 Batch entropy: 0.6934896 Validation entropy: 0.693934\n",
      "69 Batch accuracy: 0.5073776 Validation accuracy: 0.50184065 Batch entropy: 0.6934753 Validation entropy: 0.69392025\n",
      "70 Batch accuracy: 0.50739187 Validation accuracy: 0.50182986 Batch entropy: 0.6934615 Validation entropy: 0.6939068\n",
      "71 Batch accuracy: 0.50749725 Validation accuracy: 0.5019245 Batch entropy: 0.6934479 Validation entropy: 0.6938944\n",
      "72 Batch accuracy: 0.5075583 Validation accuracy: 0.50193805 Batch entropy: 0.69343466 Validation entropy: 0.6938845\n",
      "73 Batch accuracy: 0.5076478 Validation accuracy: 0.50201106 Batch entropy: 0.6934219 Validation entropy: 0.6938719\n",
      "74 Batch accuracy: 0.50769293 Validation accuracy: 0.50203 Batch entropy: 0.6934095 Validation entropy: 0.69386023\n",
      "75 Batch accuracy: 0.50771594 Validation accuracy: 0.50194347 Batch entropy: 0.6933974 Validation entropy: 0.693849\n",
      "76 Batch accuracy: 0.5076525 Validation accuracy: 0.5018542 Batch entropy: 0.69338566 Validation entropy: 0.6938385\n",
      "77 Batch accuracy: 0.50772303 Validation accuracy: 0.5018704 Batch entropy: 0.69337445 Validation entropy: 0.693828\n",
      "78 Batch accuracy: 0.50771517 Validation accuracy: 0.50194347 Batch entropy: 0.6933635 Validation entropy: 0.69381714\n",
      "79 Batch accuracy: 0.50775 Validation accuracy: 0.50201917 Batch entropy: 0.6933528 Validation entropy: 0.6938072\n",
      "80 Batch accuracy: 0.5077682 Validation accuracy: 0.5020895 Batch entropy: 0.69334257 Validation entropy: 0.6937981\n",
      "81 Batch accuracy: 0.5077833 Validation accuracy: 0.50206244 Batch entropy: 0.69333255 Validation entropy: 0.69378674\n",
      "82 Batch accuracy: 0.5078459 Validation accuracy: 0.5020327 Batch entropy: 0.6933228 Validation entropy: 0.6937781\n",
      "83 Batch accuracy: 0.50786966 Validation accuracy: 0.5021517 Batch entropy: 0.6933132 Validation entropy: 0.6937689\n",
      "84 Batch accuracy: 0.50793856 Validation accuracy: 0.5021923 Batch entropy: 0.69330364 Validation entropy: 0.6937609\n",
      "85 Batch accuracy: 0.5079639 Validation accuracy: 0.5021626 Batch entropy: 0.69329464 Validation entropy: 0.6937522\n",
      "86 Batch accuracy: 0.5080463 Validation accuracy: 0.5021436 Batch entropy: 0.6932859 Validation entropy: 0.693745\n",
      "87 Batch accuracy: 0.5081628 Validation accuracy: 0.5022951 Batch entropy: 0.6932774 Validation entropy: 0.69373804\n",
      "88 Batch accuracy: 0.50818497 Validation accuracy: 0.5023167 Batch entropy: 0.693269 Validation entropy: 0.6937283\n",
      "89 Batch accuracy: 0.5082317 Validation accuracy: 0.5023492 Batch entropy: 0.6932607 Validation entropy: 0.69372123\n",
      "90 Batch accuracy: 0.5082484 Validation accuracy: 0.50233024 Batch entropy: 0.69325286 Validation entropy: 0.69371355\n",
      "91 Batch accuracy: 0.50832283 Validation accuracy: 0.50239515 Batch entropy: 0.69324523 Validation entropy: 0.693706\n",
      "92 Batch accuracy: 0.5083585 Validation accuracy: 0.5025304 Batch entropy: 0.6932377 Validation entropy: 0.6936983\n",
      "93 Batch accuracy: 0.5083593 Validation accuracy: 0.50258994 Batch entropy: 0.69323045 Validation entropy: 0.69369155\n",
      "94 Batch accuracy: 0.50845516 Validation accuracy: 0.50267917 Batch entropy: 0.6932233 Validation entropy: 0.69368446\n",
      "95 Batch accuracy: 0.50855654 Validation accuracy: 0.5026413 Batch entropy: 0.6932164 Validation entropy: 0.6936795\n",
      "96 Batch accuracy: 0.50854313 Validation accuracy: 0.5026819 Batch entropy: 0.69320947 Validation entropy: 0.6936726\n",
      "97 Batch accuracy: 0.50859064 Validation accuracy: 0.50261426 Batch entropy: 0.6932028 Validation entropy: 0.69366616\n",
      "98 Batch accuracy: 0.5086279 Validation accuracy: 0.5026413 Batch entropy: 0.6931963 Validation entropy: 0.6936602\n",
      "99 Batch accuracy: 0.50866747 Validation accuracy: 0.5026305 Batch entropy: 0.69318986 Validation entropy: 0.6936542\n"
     ]
    }
   ],
   "source": [
    "for i in range (2012,2013):  # i = 2012\n",
    "    train=data[(data.date<=int(str(i-1)+'1231'))&(data.date>=int(str(i-4)+'0101'))]  #from 20080101 to 20121231\n",
    "    train=train.dropna()\n",
    "    train.index=range(len(train))\n",
    "    #globals()['train_{}'.format(i)]=train.copy()\n",
    "    \n",
    "    test=data[(data.date<=int(str(i)+'1231'))&(data.date>=int(str(i)+'0101'))] #from 20130101 to 20131231\n",
    "    test=test.dropna()\n",
    "    test.index=range(len(test))\n",
    "    #globals()['test_{}'.format(i)]=test.copy() \n",
    "    \n",
    "    X_train=np.asarray(train.loc[:,'ret_raw_norm_lag_21':'isJan'])\n",
    "    Y_train=np.asarray(train.loc[:,'target'])\n",
    "    \n",
    "    X_test=np.asarray(test.loc[:,'ret_raw_norm_lag_21':'isJan'])\n",
    "    Y_test=np.asarray(test.loc[:,'target'])\n",
    "    \n",
    "\n",
    "    loss_train,loss_valid = RunDNN1()"
   ]
  },
  {
   "cell_type": "code",
   "execution_count": 32,
   "metadata": {
    "colab": {
     "base_uri": "https://localhost:8080/",
     "height": 284
    },
    "colab_type": "code",
    "id": "PLBd8DAGm2o9",
    "outputId": "52b9bfba-e8c8-4f36-b97e-878b074f2dae"
   },
   "outputs": [
    {
     "data": {
      "image/png": "[encoded data removed]",
      "text/plain": [
       "<Figure size 432x288 with 1 Axes>"
      ]
     },
     "metadata": {
      "tags": []
     },
     "output_type": "display_data"
    }
   ],
   "source": [
    "fig = plt.figure()\n",
    "ax = fig.add_subplot(1,1,1)\n",
    "\n",
    "_ = ax.plot(np.linspace(1,100,100),loss_train,label=\"Training Entropy\")\n",
    "_ = ax.plot(np.linspace(1,100,100),loss_valid,label=\"Validation Entropy\")\n",
    "_ = ax.set_xlabel(\"n_epochs\")\n",
    "_ = ax.set_ylabel(\"Cross Entropy\")\n",
    "_ = ax.legend()"
   ]
  },
  {
   "cell_type": "markdown",
   "metadata": {
    "colab_type": "text",
    "id": "YvKF7iOEm6ha"
   },
   "source": [
    "### Activation Function\n",
    "SELU or RELU?"
   ]
  },
  {
   "cell_type": "code",
   "execution_count": 0,
   "metadata": {
    "colab": {},
    "colab_type": "code",
    "id": "VmnrJ2-YnDdj"
   },
   "outputs": [],
   "source": [
    "def RunDNN2(n_hidden1 = 20,n_hidden2 = 20,n_epochs = 40):\n",
    "  reset_graph()\n",
    "\n",
    "  X = tf.placeholder(tf.float32, shape=(None, n_inputs), name=\"X\")\n",
    "  y = tf.placeholder(tf.int32, shape=(None), name=\"y\")\n",
    "\n",
    "  with tf.name_scope(\"dnn\"):\n",
    "    hidden1 = tf.layers.dense(X, n_hidden1, name=\"hidden1\",\n",
    "                              activation=tf.nn.selu)\n",
    "    hidden2 = tf.layers.dense(hidden1, n_hidden2, name=\"hidden2\",\n",
    "                              activation=tf.nn.selu)\n",
    "    logits = tf.layers.dense(hidden2, n_outputs, name=\"outputs\")\n",
    "    y_proba = tf.nn.softmax(logits)\n",
    "\n",
    "  with tf.name_scope(\"loss\"):\n",
    "    xentropy = tf.nn.sparse_softmax_cross_entropy_with_logits(labels=y, logits=logits)\n",
    "    loss = tf.reduce_mean(xentropy, name=\"loss\")\n",
    "\n",
    "  learning_rate = 0.01\n",
    "\n",
    "  with tf.name_scope(\"train\"):\n",
    "    optimizer = tf.train.GradientDescentOptimizer(learning_rate)\n",
    "    training_op = optimizer.minimize(loss)\n",
    "\n",
    "  with tf.name_scope(\"eval\"):\n",
    "    correct = tf.nn.in_top_k(logits, y, 1)\n",
    "    accuracy = tf.reduce_mean(tf.cast(correct, tf.float32))\n",
    "\n",
    "  init = tf.global_variables_initializer()\n",
    "  saver = tf.train.Saver()\n",
    "  \n",
    "  loss_valid_result = np.zeros(40)\n",
    "  loss_train_result = np.zeros(40)\n",
    "\n",
    "\n",
    "  with tf.Session() as sess:\n",
    "    init.run()\n",
    "    for epoch in range(n_epochs):\n",
    "      for X_batch, y_batch in shuffle_batch(X_train, Y_train, batch_size):\n",
    "        sess.run(training_op, feed_dict={X: X_batch, y: y_batch})\n",
    "        \n",
    "      acc_train = accuracy.eval(feed_dict={X: X_train, y: Y_train})\n",
    "      acc_valid = accuracy.eval(feed_dict={X: X_test, y: Y_test})\n",
    "      loss_train = loss.eval(feed_dict={X: X_train, y: Y_train})\n",
    "      loss_valid = loss.eval(feed_dict={X: X_test, y: Y_test})\n",
    "      print(epoch, \"Batch accuracy:\", acc_train, \"Validation accuracy:\", acc_valid,\"Batch entropy:\",loss_train,\"Validation entropy:\",loss_valid)\n",
    "      prob_train = y_proba.eval(feed_dict={X: X_train, y: Y_train})\n",
    "      prob_valid = y_proba.eval(feed_dict={X: X_test, y: Y_test})\n",
    "      loss_train_result[epoch]=loss_train\n",
    "      loss_valid_result[epoch]=loss_valid\n",
    "  return loss_train_result,loss_valid_result\n",
    "\n"
   ]
  },
  {
   "cell_type": "code",
   "execution_count": 34,
   "metadata": {
    "colab": {
     "base_uri": "https://localhost:8080/",
     "height": 697
    },
    "colab_type": "code",
    "collapsed": true,
    "id": "O2PbkqjxnN7Y",
    "outputId": "18939156-aad6-404c-f4a7-3e689de8f15d"
   },
   "outputs": [
    {
     "name": "stdout",
     "output_type": "stream",
     "text": [
      "0 Batch accuracy: 0.50350004 Validation accuracy: 0.50753444 Batch entropy: 0.72112525 Validation entropy: 0.7193409\n",
      "1 Batch accuracy: 0.50524074 Validation accuracy: 0.50802404 Batch entropy: 0.70662975 Validation entropy: 0.70563346\n",
      "2 Batch accuracy: 0.5063841 Validation accuracy: 0.5078428 Batch entropy: 0.70247763 Validation entropy: 0.7019485\n",
      "3 Batch accuracy: 0.5069696 Validation accuracy: 0.50733966 Batch entropy: 0.7005067 Validation entropy: 0.70038825\n",
      "4 Batch accuracy: 0.50745684 Validation accuracy: 0.50706106 Batch entropy: 0.69932663 Validation entropy: 0.69943386\n",
      "5 Batch accuracy: 0.5077484 Validation accuracy: 0.5067148 Batch entropy: 0.6985182 Validation entropy: 0.698803\n",
      "6 Batch accuracy: 0.5079742 Validation accuracy: 0.5055572 Batch entropy: 0.697915 Validation entropy: 0.69837207\n",
      "7 Batch accuracy: 0.5083625 Validation accuracy: 0.50550306 Batch entropy: 0.69743824 Validation entropy: 0.6979424\n",
      "8 Batch accuracy: 0.50851774 Validation accuracy: 0.504862 Batch entropy: 0.6970443 Validation entropy: 0.69761175\n",
      "9 Batch accuracy: 0.50868493 Validation accuracy: 0.50428045 Batch entropy: 0.69671214 Validation entropy: 0.69738144\n",
      "10 Batch accuracy: 0.50884813 Validation accuracy: 0.50433457 Batch entropy: 0.69642454 Validation entropy: 0.6971139\n",
      "11 Batch accuracy: 0.508925 Validation accuracy: 0.503515 Batch entropy: 0.6961735 Validation entropy: 0.69689476\n",
      "12 Batch accuracy: 0.50926095 Validation accuracy: 0.50360155 Batch entropy: 0.6959502 Validation entropy: 0.6966765\n",
      "13 Batch accuracy: 0.5093695 Validation accuracy: 0.5033716 Batch entropy: 0.69575 Validation entropy: 0.6965336\n",
      "14 Batch accuracy: 0.50950813 Validation accuracy: 0.50316876 Batch entropy: 0.69556934 Validation entropy: 0.69639415\n",
      "15 Batch accuracy: 0.5098092 Validation accuracy: 0.50347173 Batch entropy: 0.69540596 Validation entropy: 0.69621754\n",
      "16 Batch accuracy: 0.50988764 Validation accuracy: 0.5031877 Batch entropy: 0.6952559 Validation entropy: 0.6960971\n",
      "17 Batch accuracy: 0.5101 Validation accuracy: 0.5032445 Batch entropy: 0.69511884 Validation entropy: 0.6959666\n",
      "18 Batch accuracy: 0.5101475 Validation accuracy: 0.50303894 Batch entropy: 0.69499254 Validation entropy: 0.69585806\n",
      "19 Batch accuracy: 0.51038045 Validation accuracy: 0.50317687 Batch entropy: 0.69487596 Validation entropy: 0.6957557\n",
      "20 Batch accuracy: 0.5104668 Validation accuracy: 0.50303894 Batch entropy: 0.6947674 Validation entropy: 0.6956505\n",
      "21 Batch accuracy: 0.5104819 Validation accuracy: 0.50292534 Batch entropy: 0.6946665 Validation entropy: 0.6955736\n",
      "22 Batch accuracy: 0.51064116 Validation accuracy: 0.50296587 Batch entropy: 0.6945717 Validation entropy: 0.69548273\n",
      "23 Batch accuracy: 0.5107972 Validation accuracy: 0.50293076 Batch entropy: 0.6944838 Validation entropy: 0.69541085\n",
      "24 Batch accuracy: 0.5107996 Validation accuracy: 0.50290096 Batch entropy: 0.69440067 Validation entropy: 0.6953403\n",
      "25 Batch accuracy: 0.5108202 Validation accuracy: 0.5031471 Batch entropy: 0.6943231 Validation entropy: 0.69526976\n",
      "26 Batch accuracy: 0.51103175 Validation accuracy: 0.5029686 Batch entropy: 0.6942496 Validation entropy: 0.6951891\n",
      "27 Batch accuracy: 0.5109937 Validation accuracy: 0.50331485 Batch entropy: 0.69418114 Validation entropy: 0.6950992\n",
      "28 Batch accuracy: 0.51123303 Validation accuracy: 0.5033446 Batch entropy: 0.69411546 Validation entropy: 0.69506097\n",
      "29 Batch accuracy: 0.5113202 Validation accuracy: 0.50327426 Batch entropy: 0.6940535 Validation entropy: 0.69500476\n",
      "30 Batch accuracy: 0.5113883 Validation accuracy: 0.5031579 Batch entropy: 0.6939947 Validation entropy: 0.69495785\n",
      "31 Batch accuracy: 0.5114992 Validation accuracy: 0.50337976 Batch entropy: 0.6939386 Validation entropy: 0.69491124\n",
      "32 Batch accuracy: 0.5116751 Validation accuracy: 0.5031661 Batch entropy: 0.6938856 Validation entropy: 0.6948641\n",
      "33 Batch accuracy: 0.5118558 Validation accuracy: 0.5034906 Batch entropy: 0.693836 Validation entropy: 0.69479924\n",
      "34 Batch accuracy: 0.5119223 Validation accuracy: 0.5034609 Batch entropy: 0.6937873 Validation entropy: 0.6947584\n",
      "35 Batch accuracy: 0.51208156 Validation accuracy: 0.5037611 Batch entropy: 0.6937427 Validation entropy: 0.69468206\n",
      "36 Batch accuracy: 0.5121362 Validation accuracy: 0.5034284 Batch entropy: 0.6936978 Validation entropy: 0.6946754\n",
      "37 Batch accuracy: 0.5121069 Validation accuracy: 0.5034203 Batch entropy: 0.693656 Validation entropy: 0.694664\n",
      "38 Batch accuracy: 0.51228994 Validation accuracy: 0.5034825 Batch entropy: 0.69361717 Validation entropy: 0.6945925\n",
      "39 Batch accuracy: 0.51238024 Validation accuracy: 0.50346357 Batch entropy: 0.6935777 Validation entropy: 0.69457054\n"
     ]
    }
   ],
   "source": [
    "for i in range (2012,2013):  # i = 2012\n",
    "    train=data[(data.date<=int(str(i-1)+'1231'))&(data.date>=int(str(i-4)+'0101'))]  #from 20080101 to 20121231\n",
    "    train=train.dropna()\n",
    "    train.index=range(len(train))\n",
    "    #globals()['train_{}'.format(i)]=train.copy()\n",
    "    \n",
    "    test=data[(data.date<=int(str(i)+'1231'))&(data.date>=int(str(i)+'0101'))] #from 20130101 to 20131231\n",
    "    test=test.dropna()\n",
    "    test.index=range(len(test))\n",
    "    #globals()['test_{}'.format(i)]=test.copy() \n",
    "    \n",
    "    X_train=np.asarray(train.loc[:,'ret_raw_norm_lag_21':'isJan'])\n",
    "    Y_train=np.asarray(train.loc[:,'target'])\n",
    "    \n",
    "    X_test=np.asarray(test.loc[:,'ret_raw_norm_lag_21':'isJan'])\n",
    "    Y_test=np.asarray(test.loc[:,'target'])\n",
    "    \n",
    "\n",
    "    loss_train2,loss_valid2 = RunDNN2()"
   ]
  },
  {
   "cell_type": "code",
   "execution_count": 35,
   "metadata": {
    "colab": {
     "base_uri": "https://localhost:8080/",
     "height": 284
    },
    "colab_type": "code",
    "id": "Z2OhAmMPnRmF",
    "outputId": "cd4b9558-6afc-4e30-eb3d-b267c656b924"
   },
   "outputs": [
    {
     "data": {
      "image/png": "[encoded data removed]",
      "text/plain": [
       "<Figure size 432x288 with 1 Axes>"
      ]
     },
     "metadata": {
      "tags": []
     },
     "output_type": "display_data"
    }
   ],
   "source": [
    "fig = plt.figure()\n",
    "ax = fig.add_subplot(1,1,1)\n",
    "\n",
    "_ = ax.plot(np.linspace(1,40,40),loss_valid[:40],label=\"RELU Validation Entropy\")\n",
    "_ = ax.plot(np.linspace(1,40,40),loss_valid2,label=\"SELU Validation Entropy\")\n",
    "_ = ax.set_xlabel(\"n_epochs\")\n",
    "_ = ax.set_ylabel(\"Cross Entropy\")\n",
    "_ = ax.legend()"
   ]
  },
  {
   "cell_type": "markdown",
   "metadata": {
    "colab_type": "text",
    "id": "44Ay6MV5nUND"
   },
   "source": [
    "### Batch Normalization or Not?\n",
    "\n"
   ]
  },
  {
   "cell_type": "code",
   "execution_count": 0,
   "metadata": {
    "colab": {},
    "colab_type": "code",
    "id": "dzP-vpQYnfwz"
   },
   "outputs": [],
   "source": [
    "def RunDNN3(n_hidden1 = 20,n_hidden2 = 20,n_epochs = 40):\n",
    "  reset_graph()\n",
    "  training = tf.placeholder_with_default(False, shape=(), name='training')\n",
    "\n",
    "  X = tf.placeholder(tf.float32, shape=(None, n_inputs), name=\"X\")\n",
    "  y = tf.placeholder(tf.int32, shape=(None), name=\"y\")\n",
    "\n",
    "  with tf.name_scope(\"dnn\"):\n",
    "    hidden1 = tf.layers.dense(X, n_hidden1, name=\"hidden1\")\n",
    "    bn1 = tf.layers.batch_normalization(hidden1, training=training, momentum=0.9)\n",
    "    bn1_act = tf.nn.selu(bn1)\n",
    "    \n",
    "    hidden2 = tf.layers.dense(bn1_act, n_hidden2, name=\"hidden2\")\n",
    "    bn2 = tf.layers.batch_normalization(hidden2, training=training, momentum=0.9)\n",
    "    bn2_act = tf.nn.selu(bn2)\n",
    "    \n",
    "    logits = tf.layers.dense(bn2_act, n_outputs, name=\"outputs\")\n",
    "    \n",
    "    y_proba = tf.nn.softmax(logits)\n",
    "\n",
    "  with tf.name_scope(\"loss\"):\n",
    "    xentropy = tf.nn.sparse_softmax_cross_entropy_with_logits(labels=y, logits=logits)\n",
    "    loss = tf.reduce_mean(xentropy, name=\"loss\")\n",
    "\n",
    "  learning_rate = 0.01\n",
    "\n",
    "  with tf.name_scope(\"train\"):\n",
    "    optimizer = tf.train.GradientDescentOptimizer(learning_rate)\n",
    "    training_op = optimizer.minimize(loss)\n",
    "\n",
    "  with tf.name_scope(\"eval\"):\n",
    "    correct = tf.nn.in_top_k(logits, y, 1)\n",
    "    accuracy = tf.reduce_mean(tf.cast(correct, tf.float32))\n",
    "\n",
    "  init = tf.global_variables_initializer()\n",
    "  saver = tf.train.Saver()\n",
    "  \n",
    "  loss_valid_result = np.zeros(40)\n",
    "  loss_train_result = np.zeros(40)\n",
    "\n",
    "\n",
    "  with tf.Session() as sess:\n",
    "    init.run()\n",
    "    for epoch in range(n_epochs):\n",
    "      for X_batch, y_batch in shuffle_batch(X_train, Y_train, batch_size):\n",
    "        sess.run(training_op, feed_dict={X: X_batch, y: y_batch})\n",
    "        \n",
    "      acc_train = accuracy.eval(feed_dict={X: X_train, y: Y_train})\n",
    "      acc_valid = accuracy.eval(feed_dict={X: X_test, y: Y_test})\n",
    "      loss_train = loss.eval(feed_dict={X: X_train, y: Y_train})\n",
    "      loss_valid = loss.eval(feed_dict={X: X_test, y: Y_test})\n",
    "      print(epoch, \"Batch accuracy:\", acc_train, \"Validation accuracy:\", acc_valid,\"Batch entropy:\",loss_train,\"Validation entropy:\",loss_valid)\n",
    "      prob_train = y_proba.eval(feed_dict={X: X_train, y: Y_train})\n",
    "      prob_valid = y_proba.eval(feed_dict={X: X_test, y: Y_test})\n",
    "      loss_train_result[epoch]=loss_train\n",
    "      loss_valid_result[epoch]=loss_valid\n",
    "  return loss_train_result,loss_valid_result"
   ]
  },
  {
   "cell_type": "code",
   "execution_count": 37,
   "metadata": {
    "colab": {
     "base_uri": "https://localhost:8080/",
     "height": 824
    },
    "colab_type": "code",
    "id": "aSU0fRoNnbx7",
    "outputId": "131bb354-bfd0-4360-df20-24886733fe7c",
    "scrolled": true
   },
   "outputs": [
    {
     "name": "stdout",
     "output_type": "stream",
     "text": [
      "WARNING:tensorflow:From <ipython-input-36-ef44807bee7f>:10: batch_normalization (from tensorflow.python.layers.normalization) is deprecated and will be removed in a future version.\n",
      "Instructions for updating:\n",
      "Use keras.layers.batch_normalization instead.\n",
      "WARNING:tensorflow:From /usr/local/lib/python3.6/dist-packages/tensorflow/python/ops/math_ops.py:3066: to_int32 (from tensorflow.python.ops.math_ops) is deprecated and will be removed in a future version.\n",
      "Instructions for updating:\n",
      "Use tf.cast instead.\n",
      "0 Batch accuracy: 0.5025944 Validation accuracy: 0.49280638 Batch entropy: 0.7231569 Validation entropy: 0.7265619\n",
      "1 Batch accuracy: 0.5033392 Validation accuracy: 0.49638224 Batch entropy: 0.7122897 Validation entropy: 0.7140919\n",
      "2 Batch accuracy: 0.50373536 Validation accuracy: 0.4978645 Batch entropy: 0.70796496 Validation entropy: 0.70915776\n",
      "3 Batch accuracy: 0.50399446 Validation accuracy: 0.4987436 Batch entropy: 0.7054623 Validation entropy: 0.7063729\n",
      "4 Batch accuracy: 0.50412995 Validation accuracy: 0.49974167 Batch entropy: 0.70378464 Validation entropy: 0.70451474\n",
      "5 Batch accuracy: 0.50447696 Validation accuracy: 0.5007073 Batch entropy: 0.70255464 Validation entropy: 0.7032127\n",
      "6 Batch accuracy: 0.5046085 Validation accuracy: 0.50125915 Batch entropy: 0.70160073 Validation entropy: 0.7022071\n",
      "7 Batch accuracy: 0.50512743 Validation accuracy: 0.5016351 Batch entropy: 0.7008292 Validation entropy: 0.7014612\n",
      "8 Batch accuracy: 0.5053184 Validation accuracy: 0.5019407 Batch entropy: 0.7001838 Validation entropy: 0.70081556\n",
      "9 Batch accuracy: 0.50565434 Validation accuracy: 0.5023032 Batch entropy: 0.69963145 Validation entropy: 0.70022297\n",
      "10 Batch accuracy: 0.5059919 Validation accuracy: 0.50265485 Batch entropy: 0.6991569 Validation entropy: 0.6997317\n",
      "11 Batch accuracy: 0.506472 Validation accuracy: 0.5030795 Batch entropy: 0.6987393 Validation entropy: 0.699307\n",
      "12 Batch accuracy: 0.50664234 Validation accuracy: 0.5022599 Batch entropy: 0.69836444 Validation entropy: 0.6990131\n",
      "13 Batch accuracy: 0.50673586 Validation accuracy: 0.50273055 Batch entropy: 0.69803244 Validation entropy: 0.6986783\n",
      "14 Batch accuracy: 0.5071621 Validation accuracy: 0.50320935 Batch entropy: 0.69773346 Validation entropy: 0.6983684\n",
      "15 Batch accuracy: 0.50713676 Validation accuracy: 0.5032147 Batch entropy: 0.69746184 Validation entropy: 0.698127\n",
      "16 Batch accuracy: 0.5075179 Validation accuracy: 0.502947 Batch entropy: 0.6972143 Validation entropy: 0.6979103\n",
      "17 Batch accuracy: 0.5078261 Validation accuracy: 0.5036638 Batch entropy: 0.6969882 Validation entropy: 0.6976578\n",
      "18 Batch accuracy: 0.5081279 Validation accuracy: 0.5034663 Batch entropy: 0.6967801 Validation entropy: 0.697486\n",
      "19 Batch accuracy: 0.50823724 Validation accuracy: 0.50337976 Batch entropy: 0.6965903 Validation entropy: 0.6973236\n",
      "20 Batch accuracy: 0.5083046 Validation accuracy: 0.50382334 Batch entropy: 0.6964113 Validation entropy: 0.69711995\n",
      "21 Batch accuracy: 0.5085803 Validation accuracy: 0.50371516 Batch entropy: 0.6962461 Validation entropy: 0.69701695\n",
      "22 Batch accuracy: 0.5087206 Validation accuracy: 0.5036475 Batch entropy: 0.69609255 Validation entropy: 0.6968692\n",
      "23 Batch accuracy: 0.50888616 Validation accuracy: 0.50349873 Batch entropy: 0.69595057 Validation entropy: 0.6967447\n",
      "24 Batch accuracy: 0.5089686 Validation accuracy: 0.5035664 Batch entropy: 0.69581586 Validation entropy: 0.69661856\n",
      "25 Batch accuracy: 0.5091405 Validation accuracy: 0.5037368 Batch entropy: 0.69568956 Validation entropy: 0.6964755\n",
      "26 Batch accuracy: 0.5093045 Validation accuracy: 0.50393695 Batch entropy: 0.6955692 Validation entropy: 0.6963772\n",
      "27 Batch accuracy: 0.5094978 Validation accuracy: 0.5038531 Batch entropy: 0.69545805 Validation entropy: 0.6962751\n",
      "28 Batch accuracy: 0.5096682 Validation accuracy: 0.50387746 Batch entropy: 0.69535345 Validation entropy: 0.69616234\n",
      "29 Batch accuracy: 0.50970304 Validation accuracy: 0.5035799 Batch entropy: 0.6952538 Validation entropy: 0.6960916\n",
      "30 Batch accuracy: 0.5099051 Validation accuracy: 0.5039315 Batch entropy: 0.69516 Validation entropy: 0.6960108\n",
      "31 Batch accuracy: 0.5101071 Validation accuracy: 0.5041398 Batch entropy: 0.6950704 Validation entropy: 0.69591665\n",
      "32 Batch accuracy: 0.5102331 Validation accuracy: 0.5044211 Batch entropy: 0.6949907 Validation entropy: 0.69582754\n",
      "33 Batch accuracy: 0.510218 Validation accuracy: 0.50397754 Batch entropy: 0.6949064 Validation entropy: 0.6957845\n",
      "34 Batch accuracy: 0.5102593 Validation accuracy: 0.5041344 Batch entropy: 0.69482976 Validation entropy: 0.6956947\n",
      "35 Batch accuracy: 0.5104502 Validation accuracy: 0.50406134 Batch entropy: 0.6947571 Validation entropy: 0.6956327\n",
      "36 Batch accuracy: 0.510657 Validation accuracy: 0.504413 Batch entropy: 0.69468766 Validation entropy: 0.69555837\n",
      "37 Batch accuracy: 0.5105952 Validation accuracy: 0.5043508 Batch entropy: 0.6946224 Validation entropy: 0.695508\n",
      "38 Batch accuracy: 0.51090974 Validation accuracy: 0.5042561 Batch entropy: 0.6945591 Validation entropy: 0.6954755\n",
      "39 Batch accuracy: 0.5110603 Validation accuracy: 0.5044806 Batch entropy: 0.6944972 Validation entropy: 0.6953963\n"
     ]
    }
   ],
   "source": [
    "for i in range (2012,2013):  # i = 2012\n",
    "    train=data[(data.date<=int(str(i-1)+'1231'))&(data.date>=int(str(i-4)+'0101'))]  #from 20080101 to 20121231\n",
    "    train=train.dropna()\n",
    "    train.index=range(len(train))\n",
    "    #globals()['train_{}'.format(i)]=train.copy()\n",
    "    \n",
    "    test=data[(data.date<=int(str(i)+'1231'))&(data.date>=int(str(i)+'0101'))] #from 20130101 to 20131231\n",
    "    test=test.dropna()\n",
    "    test.index=range(len(test))\n",
    "    #globals()['test_{}'.format(i)]=test.copy() \n",
    "    \n",
    "    X_train=np.asarray(train.loc[:,'ret_raw_norm_lag_21':'isJan'])\n",
    "    Y_train=np.asarray(train.loc[:,'target'])\n",
    "    \n",
    "    X_test=np.asarray(test.loc[:,'ret_raw_norm_lag_21':'isJan'])\n",
    "    Y_test=np.asarray(test.loc[:,'target'])\n",
    "    \n",
    "\n",
    "    loss_train3,loss_valid3 = RunDNN3()"
   ]
  },
  {
   "cell_type": "code",
   "execution_count": 38,
   "metadata": {
    "colab": {
     "base_uri": "https://localhost:8080/",
     "height": 284
    },
    "colab_type": "code",
    "collapsed": true,
    "id": "Nsla5Pkanqhm",
    "outputId": "d79c34bc-aded-4f19-8b4e-d21cddf5cd7f"
   },
   "outputs": [
    {
     "data": {
      "image/png": "[encoded data removed]",
      "text/plain": [
       "<Figure size 432x288 with 1 Axes>"
      ]
     },
     "metadata": {
      "tags": []
     },
     "output_type": "display_data"
    }
   ],
   "source": [
    "fig = plt.figure()\n",
    "ax = fig.add_subplot(1,1,1)\n",
    "\n",
    "_ = ax.plot(np.linspace(1,40,40),loss_valid[:40],label=\"RELU Validation Entropy\")\n",
    "_ = ax.plot(np.linspace(1,40,40),loss_valid3,label=\"Normalized RELU Validation Entropy\")\n",
    "_ = ax.set_xlabel(\"n_epochs\")\n",
    "_ = ax.set_ylabel(\"Cross Entropy\")\n",
    "_ = ax.legend()"
   ]
  },
  {
   "cell_type": "markdown",
   "metadata": {
    "colab_type": "text",
    "id": "dwo1pp_Mnsxl"
   },
   "source": [
    "### Dropping out or Not?"
   ]
  },
  {
   "cell_type": "code",
   "execution_count": 0,
   "metadata": {
    "colab": {},
    "colab_type": "code",
    "id": "XtdmrdT_nyyB"
   },
   "outputs": [],
   "source": [
    "def RunDNN4(n_hidden1 = 20,n_hidden2 = 20,n_epochs = 40):\n",
    "  reset_graph()\n",
    "  training = tf.placeholder_with_default(False, shape=(), name='training')\n",
    "  \n",
    "\n",
    "  X = tf.placeholder(tf.float32, shape=(None, n_inputs), name=\"X\")\n",
    "  y = tf.placeholder(tf.int32, shape=(None), name=\"y\")\n",
    "  \n",
    "  dropout_rate = 0.5  # == 1 - keep_prob\n",
    "  X_drop = tf.layers.dropout(X, dropout_rate, training=training)\n",
    "\n",
    "  with tf.name_scope(\"dnn\"):\n",
    "    ''''\n",
    "    hidden1 = tf.layers.dense(X_drop, n_hidden1, name=\"hidden1\")\n",
    "    bn1 = tf.layers.batch_normalization(hidden1, training=training, momentum=0.9)\n",
    "    bn1_act = tf.nn.relu(bn1)\n",
    "    bn1_act_drop = tf.layers.dropout(bn1_act, dropout_rate, training=training)\n",
    "    \n",
    "    hidden2 = tf.layers.dense(bn1_act_drop, n_hidden2, name=\"hidden2\")\n",
    "    bn2 = tf.layers.batch_normalization(hidden2, training=training, momentum=0.9)\n",
    "    bn2_act = tf.nn.relu(bn2)\n",
    "    bn2_act_drop = tf.layers.dropout(bn2_act, dropout_rate, training=training)\n",
    "    \n",
    "    logits = tf.layers.dense(bn2_act_drop, n_outputs, name=\"outputs\")\n",
    "    '''\n",
    "    hidden1 = tf.layers.dense(X_drop, n_hidden1, activation=tf.nn.selu,\n",
    "                              name=\"hidden1\")\n",
    "    hidden1_drop = tf.layers.dropout(hidden1, dropout_rate, training=training)\n",
    "    hidden2 = tf.layers.dense(hidden1_drop, n_hidden2, activation=tf.nn.selu,\n",
    "                              name=\"hidden2\")\n",
    "    hidden2_drop = tf.layers.dropout(hidden2, dropout_rate, training=training)\n",
    "    logits = tf.layers.dense(hidden2_drop, n_outputs, name=\"outputs\")\n",
    "    \n",
    "    \n",
    "    \n",
    "    \n",
    "    y_proba = tf.nn.softmax(logits)\n",
    "\n",
    "  with tf.name_scope(\"loss\"):\n",
    "    xentropy = tf.nn.sparse_softmax_cross_entropy_with_logits(labels=y, logits=logits)\n",
    "    loss = tf.reduce_mean(xentropy, name=\"loss\")\n",
    "\n",
    "  learning_rate = 0.01\n",
    "\n",
    "  with tf.name_scope(\"train\"):\n",
    "    optimizer = tf.train.GradientDescentOptimizer(learning_rate)\n",
    "    training_op = optimizer.minimize(loss)\n",
    "\n",
    "  with tf.name_scope(\"eval\"):\n",
    "    correct = tf.nn.in_top_k(logits, y, 1)\n",
    "    accuracy = tf.reduce_mean(tf.cast(correct, tf.float32))\n",
    "\n",
    "  init = tf.global_variables_initializer()\n",
    "  saver = tf.train.Saver()\n",
    "  \n",
    "  loss_valid_result = np.zeros(40)\n",
    "  loss_train_result = np.zeros(40)\n",
    "\n",
    "\n",
    "  with tf.Session() as sess:\n",
    "    init.run()\n",
    "    for epoch in range(n_epochs):\n",
    "      for X_batch, y_batch in shuffle_batch(X_train, Y_train, batch_size):\n",
    "        sess.run(training_op, feed_dict={X: X_batch, y: y_batch})\n",
    "        \n",
    "      acc_train = accuracy.eval(feed_dict={X: X_train, y: Y_train})\n",
    "      acc_valid = accuracy.eval(feed_dict={X: X_test, y: Y_test})\n",
    "      loss_train = loss.eval(feed_dict={X: X_train, y: Y_train})\n",
    "      loss_valid = loss.eval(feed_dict={X: X_test, y: Y_test})\n",
    "      print(epoch, \"Batch accuracy:\", acc_train, \"Validation accuracy:\", acc_valid,\"Batch entropy:\",loss_train,\"Validation entropy:\",loss_valid)\n",
    "      prob_train = y_proba.eval(feed_dict={X: X_train, y: Y_train})\n",
    "      prob_valid = y_proba.eval(feed_dict={X: X_test, y: Y_test})\n",
    "      loss_train_result[epoch]=loss_train\n",
    "      loss_valid_result[epoch]=loss_valid\n",
    "  return loss_train_result,loss_valid_result"
   ]
  },
  {
   "cell_type": "code",
   "execution_count": 40,
   "metadata": {
    "colab": {
     "base_uri": "https://localhost:8080/",
     "height": 824
    },
    "colab_type": "code",
    "collapsed": true,
    "id": "BNbvpgg3n7jF",
    "outputId": "32e25b96-bd60-4bc3-fc94-42cf0a96acff"
   },
   "outputs": [
    {
     "name": "stdout",
     "output_type": "stream",
     "text": [
      "WARNING:tensorflow:From <ipython-input-39-6952c1fdef44>:10: dropout (from tensorflow.python.layers.core) is deprecated and will be removed in a future version.\n",
      "Instructions for updating:\n",
      "Use keras.layers.dropout instead.\n",
      "WARNING:tensorflow:From /usr/local/lib/python3.6/dist-packages/tensorflow/python/keras/layers/core.py:143: calling dropout (from tensorflow.python.ops.nn_ops) with keep_prob is deprecated and will be removed in a future version.\n",
      "Instructions for updating:\n",
      "Please use `rate` instead of `keep_prob`. Rate should be set to `rate = 1 - keep_prob`.\n",
      "0 Batch accuracy: 0.5050355 Validation accuracy: 0.50542194 Batch entropy: 0.72551054 Validation entropy: 0.72509825\n",
      "1 Batch accuracy: 0.50682855 Validation accuracy: 0.5009805 Batch entropy: 0.7093161 Validation entropy: 0.71093047\n",
      "2 Batch accuracy: 0.5068238 Validation accuracy: 0.49865162 Batch entropy: 0.7051412 Validation entropy: 0.7071664\n",
      "3 Batch accuracy: 0.5067208 Validation accuracy: 0.49754533 Batch entropy: 0.70304996 Validation entropy: 0.70520234\n",
      "4 Batch accuracy: 0.5065473 Validation accuracy: 0.49676362 Batch entropy: 0.70170337 Validation entropy: 0.70387137\n",
      "5 Batch accuracy: 0.506613 Validation accuracy: 0.49689347 Batch entropy: 0.7007228 Validation entropy: 0.70286435\n",
      "6 Batch accuracy: 0.5066685 Validation accuracy: 0.4967501 Batch entropy: 0.69995403 Validation entropy: 0.70206696\n",
      "7 Batch accuracy: 0.50686026 Validation accuracy: 0.49722344 Batch entropy: 0.6993232 Validation entropy: 0.70139885\n",
      "8 Batch accuracy: 0.50711775 Validation accuracy: 0.4971477 Batch entropy: 0.6987905 Validation entropy: 0.70086133\n",
      "9 Batch accuracy: 0.5074204 Validation accuracy: 0.49699622 Batch entropy: 0.6983335 Validation entropy: 0.700386\n",
      "10 Batch accuracy: 0.5075931 Validation accuracy: 0.49743712 Batch entropy: 0.69793284 Validation entropy: 0.6999367\n",
      "11 Batch accuracy: 0.5076739 Validation accuracy: 0.4980376 Batch entropy: 0.69758147 Validation entropy: 0.6995071\n",
      "12 Batch accuracy: 0.50816834 Validation accuracy: 0.498419 Batch entropy: 0.6972664 Validation entropy: 0.6992124\n",
      "13 Batch accuracy: 0.5081454 Validation accuracy: 0.49870571 Batch entropy: 0.6969836 Validation entropy: 0.69885206\n",
      "14 Batch accuracy: 0.50834423 Validation accuracy: 0.49904925 Batch entropy: 0.6967307 Validation entropy: 0.6985215\n",
      "15 Batch accuracy: 0.5086089 Validation accuracy: 0.49895185 Batch entropy: 0.69649756 Validation entropy: 0.69830316\n",
      "16 Batch accuracy: 0.50878793 Validation accuracy: 0.4991845 Batch entropy: 0.6962864 Validation entropy: 0.69807273\n",
      "17 Batch accuracy: 0.5089543 Validation accuracy: 0.4995253 Batch entropy: 0.69609284 Validation entropy: 0.6978573\n",
      "18 Batch accuracy: 0.5092063 Validation accuracy: 0.49979848 Batch entropy: 0.6959146 Validation entropy: 0.69764465\n",
      "19 Batch accuracy: 0.5095604 Validation accuracy: 0.500096 Batch entropy: 0.69575197 Validation entropy: 0.6974492\n",
      "20 Batch accuracy: 0.50963175 Validation accuracy: 0.5001555 Batch entropy: 0.69559824 Validation entropy: 0.69728523\n",
      "21 Batch accuracy: 0.50993204 Validation accuracy: 0.49999866 Batch entropy: 0.69545966 Validation entropy: 0.69717443\n",
      "22 Batch accuracy: 0.51027036 Validation accuracy: 0.5001718 Batch entropy: 0.6953276 Validation entropy: 0.6970307\n",
      "23 Batch accuracy: 0.5102204 Validation accuracy: 0.50040436 Batch entropy: 0.6952043 Validation entropy: 0.6968595\n",
      "24 Batch accuracy: 0.51044387 Validation accuracy: 0.50061536 Batch entropy: 0.695088 Validation entropy: 0.69672436\n",
      "25 Batch accuracy: 0.51068634 Validation accuracy: 0.5006695 Batch entropy: 0.69498074 Validation entropy: 0.6966166\n",
      "26 Batch accuracy: 0.51073146 Validation accuracy: 0.500545 Batch entropy: 0.6948783 Validation entropy: 0.69651634\n",
      "27 Batch accuracy: 0.51084954 Validation accuracy: 0.50088584 Batch entropy: 0.6947828 Validation entropy: 0.69638616\n",
      "28 Batch accuracy: 0.5109272 Validation accuracy: 0.50112927 Batch entropy: 0.6946928 Validation entropy: 0.6962667\n",
      "29 Batch accuracy: 0.51105475 Validation accuracy: 0.5014106 Batch entropy: 0.6946079 Validation entropy: 0.6961763\n",
      "30 Batch accuracy: 0.5112021 Validation accuracy: 0.5011888 Batch entropy: 0.6945286 Validation entropy: 0.6961119\n",
      "31 Batch accuracy: 0.5114778 Validation accuracy: 0.50110763 Batch entropy: 0.69445133 Validation entropy: 0.6960316\n",
      "32 Batch accuracy: 0.51135975 Validation accuracy: 0.50126994 Batch entropy: 0.6943794 Validation entropy: 0.69592154\n",
      "33 Batch accuracy: 0.5115555 Validation accuracy: 0.50135106 Batch entropy: 0.6943104 Validation entropy: 0.69585115\n",
      "34 Batch accuracy: 0.51167274 Validation accuracy: 0.5015485 Batch entropy: 0.69424474 Validation entropy: 0.6957754\n",
      "35 Batch accuracy: 0.5118835 Validation accuracy: 0.5015891 Batch entropy: 0.69418246 Validation entropy: 0.6957195\n",
      "36 Batch accuracy: 0.51187634 Validation accuracy: 0.50171894 Batch entropy: 0.6941232 Validation entropy: 0.695634\n",
      "37 Batch accuracy: 0.5120871 Validation accuracy: 0.50183797 Batch entropy: 0.69406676 Validation entropy: 0.69558895\n",
      "38 Batch accuracy: 0.5121838 Validation accuracy: 0.5018082 Batch entropy: 0.69401276 Validation entropy: 0.6955348\n",
      "39 Batch accuracy: 0.51240957 Validation accuracy: 0.5020949 Batch entropy: 0.6939603 Validation entropy: 0.69547606\n"
     ]
    }
   ],
   "source": [
    "for i in range (2012,2013):  # i = 2012\n",
    "    train=data[(data.date<=int(str(i-1)+'1231'))&(data.date>=int(str(i-4)+'0101'))]  #from 20080101 to 20121231\n",
    "    train=train.dropna()\n",
    "    train.index=range(len(train))\n",
    "    #globals()['train_{}'.format(i)]=train.copy()\n",
    "    \n",
    "    test=data[(data.date<=int(str(i)+'1231'))&(data.date>=int(str(i)+'0101'))] #from 20130101 to 20131231\n",
    "    test=test.dropna()\n",
    "    test.index=range(len(test))\n",
    "    #globals()['test_{}'.format(i)]=test.copy() \n",
    "    \n",
    "    X_train=np.asarray(train.loc[:,'ret_raw_norm_lag_21':'isJan'])\n",
    "    Y_train=np.asarray(train.loc[:,'target'])\n",
    "    \n",
    "    X_test=np.asarray(test.loc[:,'ret_raw_norm_lag_21':'isJan'])\n",
    "    Y_test=np.asarray(test.loc[:,'target'])\n",
    "    \n",
    "\n",
    "    loss_train4,loss_valid4 = RunDNN4()"
   ]
  },
  {
   "cell_type": "code",
   "execution_count": 41,
   "metadata": {
    "colab": {
     "base_uri": "https://localhost:8080/",
     "height": 284
    },
    "colab_type": "code",
    "id": "2b_zJz61oOHa",
    "outputId": "1c449bbc-6601-483c-cf37-2de616d91354"
   },
   "outputs": [
    {
     "data": {
      "image/png": "[encoded data removed]",
      "text/plain": [
       "<Figure size 432x288 with 1 Axes>"
      ]
     },
     "metadata": {
      "tags": []
     },
     "output_type": "display_data"
    }
   ],
   "source": [
    "fig = plt.figure()\n",
    "ax = fig.add_subplot(1,1,1)\n",
    "\n",
    "_ = ax.plot(np.linspace(1,40,40),loss_valid[:40],label=\"RELU Validation Entropy\")\n",
    "_ = ax.plot(np.linspace(1,40,40),loss_valid4,label=\"Dropped RELU Validation Entropy\")\n",
    "_ = ax.set_xlabel(\"n_epochs\")\n",
    "_ = ax.set_ylabel(\"Cross Entropy\")\n",
    "_ = ax.legend()"
   ]
  },
  {
   "cell_type": "markdown",
   "metadata": {
    "colab_type": "text",
    "id": "6H4SrfDRobBv"
   },
   "source": [
    "### Final Deep Neuron Network Model"
   ]
  },
  {
   "cell_type": "code",
   "execution_count": 0,
   "metadata": {
    "colab": {},
    "colab_type": "code",
    "id": "5tyLzK3l6w2c"
   },
   "outputs": [],
   "source": [
    "def RunDNN(n_hidden1 = 20,n_hidden2 = 10):\n",
    "  reset_graph()\n",
    "\n",
    "  X = tf.placeholder(tf.float32, shape=(None, n_inputs), name=\"X\")\n",
    "  y = tf.placeholder(tf.int32, shape=(None), name=\"y\")\n",
    "\n",
    "  with tf.name_scope(\"dnn\"):\n",
    "    hidden1 = tf.layers.dense(X, n_hidden1, name=\"hidden1\",\n",
    "                              activation=tf.nn.selu)\n",
    "    hidden2 = tf.layers.dense(hidden1, n_hidden2, name=\"hidden2\",\n",
    "                              activation=tf.nn.selu)\n",
    "    logits = tf.layers.dense(hidden2, n_outputs, name=\"outputs\")\n",
    "    y_proba = tf.nn.softmax(logits)\n",
    "\n",
    "  with tf.name_scope(\"loss\"):\n",
    "    xentropy = tf.nn.sparse_softmax_cross_entropy_with_logits(labels=y, logits=logits)\n",
    "    loss = tf.reduce_mean(xentropy, name=\"loss\")\n",
    "\n",
    "  learning_rate = 0.01\n",
    "\n",
    "  with tf.name_scope(\"train\"):\n",
    "    optimizer = tf.train.GradientDescentOptimizer(learning_rate)\n",
    "    training_op = optimizer.minimize(loss)\n",
    "\n",
    "  with tf.name_scope(\"eval\"):\n",
    "    correct = tf.nn.in_top_k(logits, y, 1)\n",
    "    accuracy = tf.reduce_mean(tf.cast(correct, tf.float32))\n",
    "\n",
    "  init = tf.global_variables_initializer()\n",
    "  saver = tf.train.Saver()\n",
    "\n",
    "  n_epochs = 40\n",
    "\n",
    "  with tf.Session() as sess:\n",
    "    init.run()\n",
    "    for epoch in range(n_epochs):\n",
    "      for X_batch, y_batch in shuffle_batch(X_train, Y_train, batch_size):\n",
    "        sess.run(training_op, feed_dict={X: X_batch, y: y_batch})\n",
    "        \n",
    "      acc_train = accuracy.eval(feed_dict={X: X_train, y: Y_train})\n",
    "      acc_valid = accuracy.eval(feed_dict={X: X_test, y: Y_test})\n",
    "      loss_train = loss.eval(feed_dict={X: X_train, y: Y_train})\n",
    "      loss_valid = loss.eval(feed_dict={X: X_test, y: Y_test})\n",
    "      prob_train = y_proba.eval(feed_dict={X: X_train, y: Y_train})\n",
    "      prob_valid = y_proba.eval(feed_dict={X: X_test, y: Y_test})\n",
    "  return acc_train,acc_valid,loss_train,loss_valid,prob_train,prob_valid"
   ]
  },
  {
   "cell_type": "code",
   "execution_count": 44,
   "metadata": {
    "colab": {
     "base_uri": "https://localhost:8080/",
     "height": 51
    },
    "colab_type": "code",
    "id": "YkPNMq3BoaaV",
    "outputId": "7cee1d64-dcae-4b40-f412-1c5860cef600"
   },
   "outputs": [
    {
     "name": "stdout",
     "output_type": "stream",
     "text": [
      "0.51328444 0.49814814 0.6929055 0.6942841\n",
      "result_2012\n"
     ]
    }
   ],
   "source": [
    "for i in range (2012,2013):  # i = 2012\n",
    "    train=data[(data.date<=int(str(i)+'1231'))&(data.date>=int(str(i-4)+'0101'))]  #from 20080101 to 20121231\n",
    "    train=train.dropna()\n",
    "    train.index=range(len(train))\n",
    "    #globals()['train_{}'.format(i)]=train.copy()\n",
    "    \n",
    "    test=data[(data.date<=int(str(i+1)+'1231'))&(data.date>=int(str(i+1)+'0101'))] #from 20130101 to 20131231\n",
    "    test=test.dropna()\n",
    "    test.index=range(len(test))\n",
    "    #globals()['test_{}'.format(i)]=test.copy() \n",
    "    \n",
    "    X_train=np.asarray(train.loc[:,'ret_raw_norm_lag_21':'isJan'])\n",
    "    Y_train=np.asarray(train.loc[:,'target'])\n",
    "    \n",
    "    X_test=np.asarray(test.loc[:,'ret_raw_norm_lag_21':'isJan'])\n",
    "    Y_test=np.asarray(test.loc[:,'target'])\n",
    "    \n",
    "\n",
    "    acc_train,acc_valid,loss_train,loss_valid,prob_train,prob_valid = RunDNN()\n",
    "    predict_proba_train = prob_train[:,1]/(prob_train[:,0]+prob_train[:,1])\n",
    "    predict_proba_test = prob_valid[:,1]/(prob_valid[:,0]+prob_valid[:,1])\n",
    "    \n",
    "    \n",
    "    #res=pd.concat((test.loc[:,['id','date','target']], pd.DataFrame(prob_valid)),axis=1)\n",
    "    res=pd.concat((train.loc[:,['id','date','target']], pd.DataFrame(prob_train)),axis=1) # in_sample\n",
    "    res.columns=[\"id\",\"date\",'target',\"pred_zsprob_comp\",\"Alp\"]\n",
    "    res.index=range(len(res))\n",
    "    \n",
    "    inAcc=acc_train\n",
    "    inCroEntro = loss_train\n",
    "    outAcc=acc_valid\n",
    "    outCroEntro = loss_valid\n",
    "    print(inAcc,outAcc,inCroEntro,outCroEntro)\n",
    "    \n",
    "    globals()[\"result_{}\".format(i)]=res.copy()\n",
    "    print(\"result_{}\".format(i))"
   ]
  },
  {
   "cell_type": "code",
   "execution_count": 45,
   "metadata": {
    "colab": {
     "base_uri": "https://localhost:8080/",
     "height": 187
    },
    "colab_type": "code",
    "id": "ToQL2wa0oj1W",
    "outputId": "97f03fe4-912e-4dc4-f80c-6ca7d08b7de7"
   },
   "outputs": [
    {
     "name": "stdout",
     "output_type": "stream",
     "text": [
      "0.51328444 0.49814814 0.6929055 0.6942841\n",
      "result_2013\n",
      "0.5136392 0.501982 0.69292146 0.6937034\n",
      "result_2014\n",
      "0.51205117 0.51342547 0.69299155 0.69301194\n",
      "result_2015\n",
      "0.51368004 0.4958967 0.69287175 0.6942763\n",
      "result_2016\n",
      "0.5116792 0.5161546 0.69300944 0.6927042\n",
      "result_2017\n"
     ]
    }
   ],
   "source": [
    "for i in range (2012,2017): # i = 2012,2013,2014,2015,2016\n",
    "    train=data[(data.date<=int(str(i)+'1231'))&(data.date>=int(str(i-4)+'0101'))]\n",
    "    train=train.dropna()\n",
    "    train.index=range(len(train))\n",
    "    #globals()['train_{}'.format(i)]=train.copy()\n",
    "    \n",
    "    test=data[(data.date<=int(str(i+1)+'1231'))&(data.date>=int(str(i+1)+'0101'))]\n",
    "    test=test.dropna()\n",
    "    test.index=range(len(test))\n",
    "    #globals()['test_{}'.format(i)]=test.copy() \n",
    "    \n",
    "    X_train=np.asarray(train.loc[:,'ret_raw_norm_lag_21':'isJan'])\n",
    "    Y_train=np.asarray(train.loc[:,'target'])\n",
    "    \n",
    "    X_test=np.asarray(test.loc[:,'ret_raw_norm_lag_21':'isJan'])\n",
    "    Y_test=np.asarray(test.loc[:,'target'])\n",
    "    \n",
    "\n",
    "    acc_train,acc_valid,loss_train,loss_valid,prob_train,prob_valid = RunDNN()\n",
    "    predict_proba_train = prob_train[:,1]/(prob_train[:,0]+prob_train[:,1])\n",
    "    predict_proba_test = prob_valid[:,1]/(prob_valid[:,0]+prob_valid[:,1])\n",
    "    \n",
    "    \n",
    "    res=pd.concat((test.loc[:,['id','date','target']], pd.DataFrame(prob_valid)),axis=1)\n",
    "    #res=pd.concat((train.loc[:,['id','date','target']], pd.DataFrame(prob_train))),axis=1) # in_sample\n",
    "    res.columns=[\"id\",\"date\",'target',\"pred_zsprob_comp\",\"Alp\"]\n",
    "    \n",
    "    \n",
    "    res.index=range(len(res))\n",
    "    \n",
    "    inAcc=acc_train\n",
    "    inCroEntro = loss_train\n",
    "    outAcc=acc_valid\n",
    "    outCroEntro = loss_valid\n",
    "    print(inAcc,outAcc,inCroEntro,outCroEntro)\n",
    "    \n",
    "    \n",
    "    globals()[\"result_{}\".format(i+1)]=res.copy()\n",
    "    print(\"result_{}\".format(i+1))"
   ]
  },
  {
   "cell_type": "code",
   "execution_count": 0,
   "metadata": {
    "colab": {},
    "colab_type": "code",
    "id": "Y5NImH3bont8"
   },
   "outputs": [],
   "source": [
    "RES=result_2012\n",
    "for i in range(2013,2018):\n",
    "    RES=pd.concat((RES,globals()[\"result_{}\".format(i)]),axis=0)\n",
    "\n",
    "DNN_tt=RES.merge(data.loc[:,[\"id\",\"date\",\"ret_raw\",\"ret_20_raw\",\"industry\",\"flag2\"]],left_on=[\"date\",\"id\"],right_on=[\"date\",\"id\"],how=\"left\")"
   ]
  },
  {
   "cell_type": "markdown",
   "metadata": {
    "colab_type": "text",
    "id": "g8pheIPuUSIp"
   },
   "source": [
    "### Back Test Framework\n",
    "\n",
    "To use this back-test framework, input a dataframe with date, alpha, ret=ret_20_raw, flag as your holding period, and keep the quantile cut at q=0.9."
   ]
  },
  {
   "cell_type": "code",
   "execution_count": 0,
   "metadata": {
    "colab": {},
    "colab_type": "code",
    "id": "lpnFb5h8USIq"
   },
   "outputs": [],
   "source": [
    "def back_test(data,q=0.9,Alp=\"Alpha\",flag=\"flag\",date=\"date\",ret=\"ret_raw\",industry=\"industry\",Id=\"id\"):\n",
    "    data=data[data.id!='GGP US Equity']\n",
    "    data=data[data.industry!=7777]\n",
    "    data=data[data.loc[:,flag]==True]\n",
    "    data=data.loc[:,[date,Id,Alp,ret,industry]]\n",
    "    data.columns=[\"Date\",\"Id\",\"Alp\",\"Return\",\"industry\"]\n",
    "    data.index=range(len(data))\n",
    "    res=data.groupby((\"Date\")).apply(lambda x: x[x[\"Alp\"]>=x[\"Alp\"].quantile(q)].Return.mean()*0.5-\n",
    "                          x[x[\"Alp\"]<=x[\"Alp\"].quantile(1-q)].Return.mean()*0.5)\n",
    "    positions=data.groupby((\"Date\")).apply(lambda x: x[(x[\"Alp\"]>=x[\"Alp\"].quantile(q))|(x[\"Alp\"]<=x[\"Alp\"].quantile(1-q))])\n",
    "\n",
    "    long=data.groupby((\"Date\")).apply(lambda x: x[(x[\"Alp\"]>=x[\"Alp\"].quantile(q))])\n",
    "    short=data.groupby((\"Date\")).apply(lambda x: x[(x[\"Alp\"]<=x[\"Alp\"].quantile(1-q))])\n",
    "    res=res.reset_index()\n",
    "    res=res.dropna()\n",
    "    res.index=range(len(res))\n",
    "\n",
    "    globals()[\"res\"]=res\n",
    "    plt.figure(figsize=(20,10))\n",
    "    plt.plot((res.iloc[:,-1]).cumsum())\n",
    "\n",
    "    n=int(len(res)/30)+1\n",
    "    plt.xticks(range(0,len(res),n),\n",
    "               [str(res.loc[i,\"Date\"]).split(\" \")[0] for i in range(0,len(res),n)],\n",
    "               rotation=70,\n",
    "              fontsize = 20)\n",
    "    plt.yticks(fontsize=30)\n",
    "    plt.axvline(x=len(res[res.Date<20121231]), c=\"r\")\n",
    "\n",
    "    plt.show()   \n",
    "    return long,short,res"
   ]
  },
  {
   "cell_type": "markdown",
   "metadata": {
    "colab_type": "text",
    "id": "KGUz3HGyUSIv"
   },
   "source": [
    "#### Compute Yearly Return and Sharpe Ratio"
   ]
  },
  {
   "cell_type": "code",
   "execution_count": 0,
   "metadata": {
    "colab": {},
    "colab_type": "code",
    "id": "atuVYy7_USIx"
   },
   "outputs": [],
   "source": [
    "def summary_return_sharpe(res,period):\n",
    "    res.loc[:,\"year\"]=(res.Date/10000).apply(int)\n",
    "    Ret=res.groupby(\"year\")[0].sum().reset_index()\n",
    "    Y10T=0.021\n",
    "    n=int(253/period)\n",
    "    Fday=(Y10T+1)**(1/n)-1\n",
    "    Sharpe=res.groupby(\"year\")[0].apply(lambda x: (x).mean()/((x).std())*np.sqrt(n)).reset_index()\n",
    "    Performance=Ret.merge(Sharpe,left_on=\"year\",right_on=\"year\",how=\"left\")\n",
    "    Performance.columns=[\"Year\",\"Return\",\"Sharpe\"]\n",
    "    return Performance\n"
   ]
  },
  {
   "cell_type": "markdown",
   "metadata": {
    "colab_type": "text",
    "id": "hipaNmwrUSI1"
   },
   "source": [
    "### Baseline Result"
   ]
  },
  {
   "cell_type": "code",
   "execution_count": 53,
   "metadata": {
    "colab": {
     "base_uri": "https://localhost:8080/",
     "height": 1030
    },
    "colab_type": "code",
    "id": "H_3LIN14USI2",
    "outputId": "8b441ea4-6e17-4cc9-a7b6-ec6c52385d24"
   },
   "outputs": [
    {
     "data": {
      "image/png": "[encoded data removed]",
      "text/plain": [
       "<Figure size 1440x720 with 1 Axes>"
      ]
     },
     "metadata": {
      "tags": []
     },
     "output_type": "display_data"
    },
    {
     "data": {
      "text/html": [
       "<div>\n",
       "<style scoped>\n",
       "    .dataframe tbody tr th:only-of-type {\n",
       "        vertical-align: middle;\n",
       "    }\n",
       "\n",
       "    .dataframe tbody tr th {\n",
       "        vertical-align: top;\n",
       "    }\n",
       "\n",
       "    .dataframe thead th {\n",
       "        text-align: right;\n",
       "    }\n",
       "</style>\n",
       "<table border=\"1\" class=\"dataframe\">\n",
       "  <thead>\n",
       "    <tr style=\"text-align: right;\">\n",
       "      <th></th>\n",
       "      <th>Year</th>\n",
       "      <th>Return</th>\n",
       "      <th>Sharpe</th>\n",
       "    </tr>\n",
       "  </thead>\n",
       "  <tbody>\n",
       "    <tr>\n",
       "      <th>0</th>\n",
       "      <td>2008</td>\n",
       "      <td>-0.056674</td>\n",
       "      <td>-0.692299</td>\n",
       "    </tr>\n",
       "    <tr>\n",
       "      <th>1</th>\n",
       "      <td>2009</td>\n",
       "      <td>0.361200</td>\n",
       "      <td>3.676245</td>\n",
       "    </tr>\n",
       "    <tr>\n",
       "      <th>2</th>\n",
       "      <td>2010</td>\n",
       "      <td>0.409331</td>\n",
       "      <td>3.224571</td>\n",
       "    </tr>\n",
       "    <tr>\n",
       "      <th>3</th>\n",
       "      <td>2011</td>\n",
       "      <td>0.134093</td>\n",
       "      <td>2.118230</td>\n",
       "    </tr>\n",
       "    <tr>\n",
       "      <th>4</th>\n",
       "      <td>2012</td>\n",
       "      <td>0.092953</td>\n",
       "      <td>1.429364</td>\n",
       "    </tr>\n",
       "    <tr>\n",
       "      <th>5</th>\n",
       "      <td>2013</td>\n",
       "      <td>0.114847</td>\n",
       "      <td>1.680922</td>\n",
       "    </tr>\n",
       "    <tr>\n",
       "      <th>6</th>\n",
       "      <td>2014</td>\n",
       "      <td>0.098261</td>\n",
       "      <td>1.818474</td>\n",
       "    </tr>\n",
       "    <tr>\n",
       "      <th>7</th>\n",
       "      <td>2015</td>\n",
       "      <td>0.097750</td>\n",
       "      <td>2.223340</td>\n",
       "    </tr>\n",
       "    <tr>\n",
       "      <th>8</th>\n",
       "      <td>2016</td>\n",
       "      <td>-0.038390</td>\n",
       "      <td>-1.367387</td>\n",
       "    </tr>\n",
       "    <tr>\n",
       "      <th>9</th>\n",
       "      <td>2017</td>\n",
       "      <td>0.015641</td>\n",
       "      <td>1.587530</td>\n",
       "    </tr>\n",
       "  </tbody>\n",
       "</table>\n",
       "</div>"
      ],
      "text/plain": [
       "   Year    Return    Sharpe\n",
       "0  2008 -0.056674 -0.692299\n",
       "1  2009  0.361200  3.676245\n",
       "2  2010  0.409331  3.224571\n",
       "3  2011  0.134093  2.118230\n",
       "4  2012  0.092953  1.429364\n",
       "5  2013  0.114847  1.680922\n",
       "6  2014  0.098261  1.818474\n",
       "7  2015  0.097750  2.223340\n",
       "8  2016 -0.038390 -1.367387\n",
       "9  2017  0.015641  1.587530"
      ]
     },
     "execution_count": 53,
     "metadata": {
      "tags": []
     },
     "output_type": "execute_result"
    }
   ],
   "source": [
    "a3=back_test(tt,q=0.90,flag=\"flag2\",ret=\"ret_20_raw\",Alp=\"Alp\")\n",
    "summary_return_sharpe(a3[2],12)"
   ]
  },
  {
   "cell_type": "markdown",
   "metadata": {
    "colab_type": "text",
    "id": "wKS3PNt2cPRC"
   },
   "source": [
    "### Random Forest Result"
   ]
  },
  {
   "cell_type": "code",
   "execution_count": 54,
   "metadata": {
    "colab": {
     "base_uri": "https://localhost:8080/",
     "height": 1030
    },
    "colab_type": "code",
    "id": "-VKmgtTXcJqa",
    "outputId": "5bc09ad9-1d3a-43e5-eab3-ada45985e164"
   },
   "outputs": [
    {
     "data": {
      "image/png": "[encoded data removed]",
      "text/plain": [
       "<Figure size 1440x720 with 1 Axes>"
      ]
     },
     "metadata": {
      "tags": []
     },
     "output_type": "display_data"
    },
    {
     "data": {
      "text/html": [
       "<div>\n",
       "<style scoped>\n",
       "    .dataframe tbody tr th:only-of-type {\n",
       "        vertical-align: middle;\n",
       "    }\n",
       "\n",
       "    .dataframe tbody tr th {\n",
       "        vertical-align: top;\n",
       "    }\n",
       "\n",
       "    .dataframe thead th {\n",
       "        text-align: right;\n",
       "    }\n",
       "</style>\n",
       "<table border=\"1\" class=\"dataframe\">\n",
       "  <thead>\n",
       "    <tr style=\"text-align: right;\">\n",
       "      <th></th>\n",
       "      <th>Year</th>\n",
       "      <th>Return</th>\n",
       "      <th>Sharpe</th>\n",
       "    </tr>\n",
       "  </thead>\n",
       "  <tbody>\n",
       "    <tr>\n",
       "      <th>0</th>\n",
       "      <td>2008</td>\n",
       "      <td>0.085528</td>\n",
       "      <td>1.633732</td>\n",
       "    </tr>\n",
       "    <tr>\n",
       "      <th>1</th>\n",
       "      <td>2009</td>\n",
       "      <td>0.442348</td>\n",
       "      <td>4.280952</td>\n",
       "    </tr>\n",
       "    <tr>\n",
       "      <th>2</th>\n",
       "      <td>2010</td>\n",
       "      <td>0.423093</td>\n",
       "      <td>4.483873</td>\n",
       "    </tr>\n",
       "    <tr>\n",
       "      <th>3</th>\n",
       "      <td>2011</td>\n",
       "      <td>0.176626</td>\n",
       "      <td>3.760834</td>\n",
       "    </tr>\n",
       "    <tr>\n",
       "      <th>4</th>\n",
       "      <td>2012</td>\n",
       "      <td>0.183214</td>\n",
       "      <td>3.713652</td>\n",
       "    </tr>\n",
       "    <tr>\n",
       "      <th>5</th>\n",
       "      <td>2013</td>\n",
       "      <td>0.143764</td>\n",
       "      <td>2.307007</td>\n",
       "    </tr>\n",
       "    <tr>\n",
       "      <th>6</th>\n",
       "      <td>2014</td>\n",
       "      <td>0.126868</td>\n",
       "      <td>1.638843</td>\n",
       "    </tr>\n",
       "    <tr>\n",
       "      <th>7</th>\n",
       "      <td>2015</td>\n",
       "      <td>0.134800</td>\n",
       "      <td>3.167101</td>\n",
       "    </tr>\n",
       "    <tr>\n",
       "      <th>8</th>\n",
       "      <td>2016</td>\n",
       "      <td>-0.107631</td>\n",
       "      <td>-2.578657</td>\n",
       "    </tr>\n",
       "    <tr>\n",
       "      <th>9</th>\n",
       "      <td>2017</td>\n",
       "      <td>0.040660</td>\n",
       "      <td>1.762261</td>\n",
       "    </tr>\n",
       "  </tbody>\n",
       "</table>\n",
       "</div>"
      ],
      "text/plain": [
       "   Year    Return    Sharpe\n",
       "0  2008  0.085528  1.633732\n",
       "1  2009  0.442348  4.280952\n",
       "2  2010  0.423093  4.483873\n",
       "3  2011  0.176626  3.760834\n",
       "4  2012  0.183214  3.713652\n",
       "5  2013  0.143764  2.307007\n",
       "6  2014  0.126868  1.638843\n",
       "7  2015  0.134800  3.167101\n",
       "8  2016 -0.107631 -2.578657\n",
       "9  2017  0.040660  1.762261"
      ]
     },
     "execution_count": 54,
     "metadata": {
      "tags": []
     },
     "output_type": "execute_result"
    }
   ],
   "source": [
    "a3=back_test(Random_Forest_tt,q=0.90,flag=\"flag2\",ret=\"ret_20_raw\",Alp=\"Alp\")\n",
    "summary_return_sharpe(a3[2],12)"
   ]
  },
  {
   "cell_type": "markdown",
   "metadata": {
    "colab_type": "text",
    "id": "IOkTVrVzoxNm"
   },
   "source": [
    "### Deep Nuron Network Result"
   ]
  },
  {
   "cell_type": "code",
   "execution_count": 55,
   "metadata": {
    "colab": {
     "base_uri": "https://localhost:8080/",
     "height": 1030
    },
    "colab_type": "code",
    "id": "LkeDFRZ0USI8",
    "outputId": "64f5cd2a-0b55-4f71-f15c-6e2dbc30aea7"
   },
   "outputs": [
    {
     "data": {
      "image/png": "[encoded data removed]",
      "text/plain": [
       "<Figure size 1440x720 with 1 Axes>"
      ]
     },
     "metadata": {
      "tags": []
     },
     "output_type": "display_data"
    },
    {
     "data": {
      "text/html": [
       "<div>\n",
       "<style scoped>\n",
       "    .dataframe tbody tr th:only-of-type {\n",
       "        vertical-align: middle;\n",
       "    }\n",
       "\n",
       "    .dataframe tbody tr th {\n",
       "        vertical-align: top;\n",
       "    }\n",
       "\n",
       "    .dataframe thead th {\n",
       "        text-align: right;\n",
       "    }\n",
       "</style>\n",
       "<table border=\"1\" class=\"dataframe\">\n",
       "  <thead>\n",
       "    <tr style=\"text-align: right;\">\n",
       "      <th></th>\n",
       "      <th>Year</th>\n",
       "      <th>Return</th>\n",
       "      <th>Sharpe</th>\n",
       "    </tr>\n",
       "  </thead>\n",
       "  <tbody>\n",
       "    <tr>\n",
       "      <th>0</th>\n",
       "      <td>2008</td>\n",
       "      <td>-0.028432</td>\n",
       "      <td>-0.528265</td>\n",
       "    </tr>\n",
       "    <tr>\n",
       "      <th>1</th>\n",
       "      <td>2009</td>\n",
       "      <td>0.203136</td>\n",
       "      <td>2.457964</td>\n",
       "    </tr>\n",
       "    <tr>\n",
       "      <th>2</th>\n",
       "      <td>2010</td>\n",
       "      <td>0.280576</td>\n",
       "      <td>2.984843</td>\n",
       "    </tr>\n",
       "    <tr>\n",
       "      <th>3</th>\n",
       "      <td>2011</td>\n",
       "      <td>0.003518</td>\n",
       "      <td>0.096077</td>\n",
       "    </tr>\n",
       "    <tr>\n",
       "      <th>4</th>\n",
       "      <td>2012</td>\n",
       "      <td>0.129240</td>\n",
       "      <td>2.421617</td>\n",
       "    </tr>\n",
       "    <tr>\n",
       "      <th>5</th>\n",
       "      <td>2013</td>\n",
       "      <td>0.070187</td>\n",
       "      <td>1.219887</td>\n",
       "    </tr>\n",
       "    <tr>\n",
       "      <th>6</th>\n",
       "      <td>2014</td>\n",
       "      <td>0.123115</td>\n",
       "      <td>2.464058</td>\n",
       "    </tr>\n",
       "    <tr>\n",
       "      <th>7</th>\n",
       "      <td>2015</td>\n",
       "      <td>0.084334</td>\n",
       "      <td>2.890076</td>\n",
       "    </tr>\n",
       "    <tr>\n",
       "      <th>8</th>\n",
       "      <td>2016</td>\n",
       "      <td>-0.060262</td>\n",
       "      <td>-2.146598</td>\n",
       "    </tr>\n",
       "    <tr>\n",
       "      <th>9</th>\n",
       "      <td>2017</td>\n",
       "      <td>-0.029014</td>\n",
       "      <td>-1.453523</td>\n",
       "    </tr>\n",
       "  </tbody>\n",
       "</table>\n",
       "</div>"
      ],
      "text/plain": [
       "   Year    Return    Sharpe\n",
       "0  2008 -0.028432 -0.528265\n",
       "1  2009  0.203136  2.457964\n",
       "2  2010  0.280576  2.984843\n",
       "3  2011  0.003518  0.096077\n",
       "4  2012  0.129240  2.421617\n",
       "5  2013  0.070187  1.219887\n",
       "6  2014  0.123115  2.464058\n",
       "7  2015  0.084334  2.890076\n",
       "8  2016 -0.060262 -2.146598\n",
       "9  2017 -0.029014 -1.453523"
      ]
     },
     "execution_count": 55,
     "metadata": {
      "tags": []
     },
     "output_type": "execute_result"
    }
   ],
   "source": [
    "a3=back_test(DNN_tt,q=0.90,flag=\"flag2\",ret=\"ret_20_raw\",Alp=\"Alp\")\n",
    "summary_return_sharpe(a3[2],12)"
   ]
  },
  {
   "cell_type": "code",
   "execution_count": 0,
   "metadata": {
    "colab": {},
    "colab_type": "code",
    "id": "mGkUrubQ_6rS"
   },
   "outputs": [],
   "source": []
  }
 ],
 "metadata": {
  "accelerator": "GPU",
  "colab": {
   "name": "FRE-7773A Final Project _Baseline Strategy_.ipynb",
   "provenance": [],
   "version": "0.3.2"
  },
  "kernelspec": {
   "display_name": "Python 3",
   "language": "python",
   "name": "python3"
  },
  "language_info": {
   "codemirror_mode": {
    "name": "ipython",
    "version": 3
   },
   "file_extension": ".py",
   "mimetype": "text/x-python",
   "name": "python",
   "nbconvert_exporter": "python",
   "pygments_lexer": "ipython3",
   "version": "3.6.8"
  }
 },
 "nbformat": 4,
 "nbformat_minor": 1
}
