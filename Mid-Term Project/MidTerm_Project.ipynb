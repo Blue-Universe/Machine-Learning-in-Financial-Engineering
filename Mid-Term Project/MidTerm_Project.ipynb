{
 "cells": [
  {
   "cell_type": "markdown",
   "metadata": {},
   "source": [
    "# Midterm project\n",
    "\n",
    "We are giving you a dataset and asking you to create a model to make predictions.\n",
    "This assignment is less structured than the previous ones.  It is intended to be similar to what a potential\n",
    "employer would give you to evaluate your skills.\n",
    "\n",
    "So: time to show off ! Use the knowledge you have acquired in the first 7 weeks of the course to create a Jupyter notebook that presents your work (and you) in the best light.\n",
    "\n",
    "As usual, a \"correct answer\" (e.g., highly predictive model) is only part of the goal.\n",
    "Your entire research methodology should be evident, as per the \"Recipe for ML\" we have discussed in class.\n"
   ]
  },
  {
   "cell_type": "markdown",
   "metadata": {},
   "source": [
    "# The problem\n",
    "\n",
    "You are given a dataset of customers who have applied for credit.\n",
    "Each customer is associated with some number of attributes, and a rating of being a Good/Bad credit risk.\n",
    "\n",
    "## The dataset\n",
    "\n",
    "- The dataset is given in the file \"credit_data.csv\".\n",
    "- Each row corresponds to one customer.\n",
    "- There are 20 attributes, some numeric and some categorical.\n",
    "- The last column \"Credit Risk\" encodes whether the customer was judged to be a Good/Bad credit risk\n",
    "    - 1: Good credit risk\n",
    "    - 2: Bad credit risk\n",
    "\n",
    "You will use this data to come up with a model that predicts \"Credit Risk\" for a customer from the customer's attributes.\n",
    "\n",
    "### Attributes\n",
    "\n",
    "A description of the attributes is given in the plain text file \"credit_data_attributes.txt\".\n",
    "\n",
    "You will notice that the values for many attributes are encoded as strings.\n",
    "For example, attribute 7 is the customer's Employment Status, having possible values\n",
    "A71, A72, .., A75.  Per the file, \"A71\" means the customer is unemployed.\n",
    "\n",
    "#### Currency\n",
    "\n",
    "The currency units are \"DM\" (old German currency: the Deutsche Mark).\n",
    "\n",
    "As you might guess: this data is not recent; you may find anachronisms other than the currency."
   ]
  },
  {
   "cell_type": "markdown",
   "metadata": {},
   "source": [
    "# Your submission\n",
    "\n",
    "There are some ground rules, mainly to make grading easier for the GA and instructor.\n",
    "\n",
    "Your `sklearn` model should be stored in the variable `credit_model`; this will allow the GA to apply `sklearn` methods to this variable to evaluate your predictions, e.g.\n",
    ">`credit_model.predict( ... )`\n",
    "\n",
    "Your submission must contain a Jupyter notebook in a file named\n",
    ">LastName_FirstName_MidTerm_Project.ipynb\n",
    "\n",
    "where `LastName` and `FirstName` should be replaced with your name (as it appears on the class roster).\n",
    "\n",
    "**IF** your submission consists of files in addition to this one notebook, you can submit a *single* zip file.  This file **must** conform to the following rules:\n",
    "- The notebook must execute, unchanged, when unzipped into *an arbitrary directory*\n",
    "    - This means that all paths, e.g., to data files or modules, must be *relative* and not absolute.\n",
    "    "
   ]
  },
  {
   "cell_type": "markdown",
   "metadata": {},
   "source": [
    "# Getting the Data"
   ]
  },
  {
   "cell_type": "code",
   "execution_count": 1,
   "metadata": {},
   "outputs": [],
   "source": [
    "import pandas as pd\n",
    "import os\n",
    "\n",
    "NOTEBOOK_ROOT = \"\"\n",
    "CREDIT_PATH = os.path.join( NOTEBOOK_ROOT, \"data\")\n",
    "\n",
    "data = pd.read_csv( os.path.join(CREDIT_PATH, \"credit_data.csv\") )"
   ]
  },
  {
   "cell_type": "code",
   "execution_count": 2,
   "metadata": {},
   "outputs": [
    {
     "data": {
      "text/html": [
       "<div>\n",
       "<style scoped>\n",
       "    .dataframe tbody tr th:only-of-type {\n",
       "        vertical-align: middle;\n",
       "    }\n",
       "\n",
       "    .dataframe tbody tr th {\n",
       "        vertical-align: top;\n",
       "    }\n",
       "\n",
       "    .dataframe thead th {\n",
       "        text-align: right;\n",
       "    }\n",
       "</style>\n",
       "<table border=\"1\" class=\"dataframe\">\n",
       "  <thead>\n",
       "    <tr style=\"text-align: right;\">\n",
       "      <th></th>\n",
       "      <th>Attribute 1</th>\n",
       "      <th>Attribute 2</th>\n",
       "      <th>Attribute 3</th>\n",
       "      <th>Attribute 4</th>\n",
       "      <th>Attribute 5</th>\n",
       "      <th>Attribute 6</th>\n",
       "      <th>Attribute 7</th>\n",
       "      <th>Attribute 8</th>\n",
       "      <th>Attribute 9</th>\n",
       "      <th>Attribute 10</th>\n",
       "      <th>...</th>\n",
       "      <th>Attribute 12</th>\n",
       "      <th>Attribute 13</th>\n",
       "      <th>Attribute 14</th>\n",
       "      <th>Attribute 15</th>\n",
       "      <th>Attribute 16</th>\n",
       "      <th>Attribute 17</th>\n",
       "      <th>Attribute 18</th>\n",
       "      <th>Attribute 19</th>\n",
       "      <th>Attribute 20</th>\n",
       "      <th>Credit Risk</th>\n",
       "    </tr>\n",
       "  </thead>\n",
       "  <tbody>\n",
       "    <tr>\n",
       "      <th>0</th>\n",
       "      <td>A11</td>\n",
       "      <td>6</td>\n",
       "      <td>A34</td>\n",
       "      <td>A43</td>\n",
       "      <td>1169</td>\n",
       "      <td>A65</td>\n",
       "      <td>A75</td>\n",
       "      <td>4</td>\n",
       "      <td>A93</td>\n",
       "      <td>A101</td>\n",
       "      <td>...</td>\n",
       "      <td>A121</td>\n",
       "      <td>67</td>\n",
       "      <td>A143</td>\n",
       "      <td>A152</td>\n",
       "      <td>2</td>\n",
       "      <td>A173</td>\n",
       "      <td>1</td>\n",
       "      <td>A192</td>\n",
       "      <td>A201</td>\n",
       "      <td>1</td>\n",
       "    </tr>\n",
       "    <tr>\n",
       "      <th>1</th>\n",
       "      <td>A12</td>\n",
       "      <td>48</td>\n",
       "      <td>A32</td>\n",
       "      <td>A43</td>\n",
       "      <td>5951</td>\n",
       "      <td>A61</td>\n",
       "      <td>A73</td>\n",
       "      <td>2</td>\n",
       "      <td>A92</td>\n",
       "      <td>A101</td>\n",
       "      <td>...</td>\n",
       "      <td>A121</td>\n",
       "      <td>22</td>\n",
       "      <td>A143</td>\n",
       "      <td>A152</td>\n",
       "      <td>1</td>\n",
       "      <td>A173</td>\n",
       "      <td>1</td>\n",
       "      <td>A191</td>\n",
       "      <td>A201</td>\n",
       "      <td>2</td>\n",
       "    </tr>\n",
       "    <tr>\n",
       "      <th>2</th>\n",
       "      <td>A14</td>\n",
       "      <td>12</td>\n",
       "      <td>A34</td>\n",
       "      <td>A46</td>\n",
       "      <td>2096</td>\n",
       "      <td>A61</td>\n",
       "      <td>A74</td>\n",
       "      <td>2</td>\n",
       "      <td>A93</td>\n",
       "      <td>A101</td>\n",
       "      <td>...</td>\n",
       "      <td>A121</td>\n",
       "      <td>49</td>\n",
       "      <td>A143</td>\n",
       "      <td>A152</td>\n",
       "      <td>1</td>\n",
       "      <td>A172</td>\n",
       "      <td>2</td>\n",
       "      <td>A191</td>\n",
       "      <td>A201</td>\n",
       "      <td>1</td>\n",
       "    </tr>\n",
       "    <tr>\n",
       "      <th>3</th>\n",
       "      <td>A11</td>\n",
       "      <td>42</td>\n",
       "      <td>A32</td>\n",
       "      <td>A42</td>\n",
       "      <td>7882</td>\n",
       "      <td>A61</td>\n",
       "      <td>A74</td>\n",
       "      <td>2</td>\n",
       "      <td>A93</td>\n",
       "      <td>A103</td>\n",
       "      <td>...</td>\n",
       "      <td>A122</td>\n",
       "      <td>45</td>\n",
       "      <td>A143</td>\n",
       "      <td>A153</td>\n",
       "      <td>1</td>\n",
       "      <td>A173</td>\n",
       "      <td>2</td>\n",
       "      <td>A191</td>\n",
       "      <td>A201</td>\n",
       "      <td>1</td>\n",
       "    </tr>\n",
       "    <tr>\n",
       "      <th>4</th>\n",
       "      <td>A11</td>\n",
       "      <td>24</td>\n",
       "      <td>A33</td>\n",
       "      <td>A40</td>\n",
       "      <td>4870</td>\n",
       "      <td>A61</td>\n",
       "      <td>A73</td>\n",
       "      <td>3</td>\n",
       "      <td>A93</td>\n",
       "      <td>A101</td>\n",
       "      <td>...</td>\n",
       "      <td>A124</td>\n",
       "      <td>53</td>\n",
       "      <td>A143</td>\n",
       "      <td>A153</td>\n",
       "      <td>2</td>\n",
       "      <td>A173</td>\n",
       "      <td>2</td>\n",
       "      <td>A191</td>\n",
       "      <td>A201</td>\n",
       "      <td>2</td>\n",
       "    </tr>\n",
       "  </tbody>\n",
       "</table>\n",
       "<p>5 rows × 21 columns</p>\n",
       "</div>"
      ],
      "text/plain": [
       "  Attribute 1  Attribute 2 Attribute 3 Attribute 4  Attribute 5 Attribute 6  \\\n",
       "0         A11            6         A34         A43         1169         A65   \n",
       "1         A12           48         A32         A43         5951         A61   \n",
       "2         A14           12         A34         A46         2096         A61   \n",
       "3         A11           42         A32         A42         7882         A61   \n",
       "4         A11           24         A33         A40         4870         A61   \n",
       "\n",
       "  Attribute 7  Attribute 8 Attribute 9 Attribute 10  ...  Attribute 12  \\\n",
       "0         A75            4         A93         A101  ...          A121   \n",
       "1         A73            2         A92         A101  ...          A121   \n",
       "2         A74            2         A93         A101  ...          A121   \n",
       "3         A74            2         A93         A103  ...          A122   \n",
       "4         A73            3         A93         A101  ...          A124   \n",
       "\n",
       "  Attribute 13  Attribute 14 Attribute 15 Attribute 16  Attribute 17  \\\n",
       "0           67          A143         A152            2          A173   \n",
       "1           22          A143         A152            1          A173   \n",
       "2           49          A143         A152            1          A172   \n",
       "3           45          A143         A153            1          A173   \n",
       "4           53          A143         A153            2          A173   \n",
       "\n",
       "  Attribute 18  Attribute 19 Attribute 20 Credit Risk  \n",
       "0            1          A192         A201           1  \n",
       "1            1          A191         A201           2  \n",
       "2            2          A191         A201           1  \n",
       "3            2          A191         A201           1  \n",
       "4            2          A191         A201           2  \n",
       "\n",
       "[5 rows x 21 columns]"
      ]
     },
     "execution_count": 2,
     "metadata": {},
     "output_type": "execute_result"
    }
   ],
   "source": [
    "data.head()"
   ]
  },
  {
   "cell_type": "markdown",
   "metadata": {},
   "source": [
    "# Data Exploration"
   ]
  },
  {
   "cell_type": "code",
   "execution_count": 3,
   "metadata": {},
   "outputs": [],
   "source": [
    "%matplotlib inline"
   ]
  },
  {
   "cell_type": "code",
   "execution_count": 4,
   "metadata": {},
   "outputs": [
    {
     "name": "stdout",
     "output_type": "stream",
     "text": [
      "There are 1000 observations and 21 attributes (including the target)\n"
     ]
    }
   ],
   "source": [
    "(num_obs, num_features) = data.shape\n",
    "print(\"There are {nr} observations and {nf} attributes (including the target)\".format(nr=num_obs, nf=num_features) )"
   ]
  },
  {
   "cell_type": "code",
   "execution_count": 5,
   "metadata": {},
   "outputs": [
    {
     "name": "stdout",
     "output_type": "stream",
     "text": [
      "<class 'pandas.core.frame.DataFrame'>\n",
      "RangeIndex: 1000 entries, 0 to 999\n",
      "Data columns (total 21 columns):\n",
      "Attribute 1     1000 non-null object\n",
      "Attribute 2     1000 non-null int64\n",
      "Attribute 3     1000 non-null object\n",
      "Attribute 4     1000 non-null object\n",
      "Attribute 5     1000 non-null int64\n",
      "Attribute 6     1000 non-null object\n",
      "Attribute 7     1000 non-null object\n",
      "Attribute 8     1000 non-null int64\n",
      "Attribute 9     1000 non-null object\n",
      "Attribute 10    1000 non-null object\n",
      "Attribute 11    1000 non-null int64\n",
      "Attribute 12    1000 non-null object\n",
      "Attribute 13    1000 non-null int64\n",
      "Attribute 14    1000 non-null object\n",
      "Attribute 15    1000 non-null object\n",
      "Attribute 16    1000 non-null int64\n",
      "Attribute 17    1000 non-null object\n",
      "Attribute 18    1000 non-null int64\n",
      "Attribute 19    1000 non-null object\n",
      "Attribute 20    1000 non-null object\n",
      "Credit Risk     1000 non-null int64\n",
      "dtypes: int64(8), object(13)\n",
      "memory usage: 164.1+ KB\n"
     ]
    }
   ],
   "source": [
    "data.info()"
   ]
  },
  {
   "cell_type": "code",
   "execution_count": 6,
   "metadata": {},
   "outputs": [
    {
     "data": {
      "text/html": [
       "<div>\n",
       "<style scoped>\n",
       "    .dataframe tbody tr th:only-of-type {\n",
       "        vertical-align: middle;\n",
       "    }\n",
       "\n",
       "    .dataframe tbody tr th {\n",
       "        vertical-align: top;\n",
       "    }\n",
       "\n",
       "    .dataframe thead th {\n",
       "        text-align: right;\n",
       "    }\n",
       "</style>\n",
       "<table border=\"1\" class=\"dataframe\">\n",
       "  <thead>\n",
       "    <tr style=\"text-align: right;\">\n",
       "      <th></th>\n",
       "      <th>Attribute 2</th>\n",
       "      <th>Attribute 5</th>\n",
       "      <th>Attribute 8</th>\n",
       "      <th>Attribute 11</th>\n",
       "      <th>Attribute 13</th>\n",
       "      <th>Attribute 16</th>\n",
       "      <th>Attribute 18</th>\n",
       "      <th>Credit Risk</th>\n",
       "    </tr>\n",
       "  </thead>\n",
       "  <tbody>\n",
       "    <tr>\n",
       "      <th>count</th>\n",
       "      <td>1000.000000</td>\n",
       "      <td>1000.000000</td>\n",
       "      <td>1000.000000</td>\n",
       "      <td>1000.000000</td>\n",
       "      <td>1000.000000</td>\n",
       "      <td>1000.000000</td>\n",
       "      <td>1000.000000</td>\n",
       "      <td>1000.000000</td>\n",
       "    </tr>\n",
       "    <tr>\n",
       "      <th>mean</th>\n",
       "      <td>20.903000</td>\n",
       "      <td>3271.258000</td>\n",
       "      <td>2.973000</td>\n",
       "      <td>2.845000</td>\n",
       "      <td>35.546000</td>\n",
       "      <td>1.407000</td>\n",
       "      <td>1.155000</td>\n",
       "      <td>1.300000</td>\n",
       "    </tr>\n",
       "    <tr>\n",
       "      <th>std</th>\n",
       "      <td>12.058814</td>\n",
       "      <td>2822.736876</td>\n",
       "      <td>1.118715</td>\n",
       "      <td>1.103718</td>\n",
       "      <td>11.375469</td>\n",
       "      <td>0.577654</td>\n",
       "      <td>0.362086</td>\n",
       "      <td>0.458487</td>\n",
       "    </tr>\n",
       "    <tr>\n",
       "      <th>min</th>\n",
       "      <td>4.000000</td>\n",
       "      <td>250.000000</td>\n",
       "      <td>1.000000</td>\n",
       "      <td>1.000000</td>\n",
       "      <td>19.000000</td>\n",
       "      <td>1.000000</td>\n",
       "      <td>1.000000</td>\n",
       "      <td>1.000000</td>\n",
       "    </tr>\n",
       "    <tr>\n",
       "      <th>25%</th>\n",
       "      <td>12.000000</td>\n",
       "      <td>1365.500000</td>\n",
       "      <td>2.000000</td>\n",
       "      <td>2.000000</td>\n",
       "      <td>27.000000</td>\n",
       "      <td>1.000000</td>\n",
       "      <td>1.000000</td>\n",
       "      <td>1.000000</td>\n",
       "    </tr>\n",
       "    <tr>\n",
       "      <th>50%</th>\n",
       "      <td>18.000000</td>\n",
       "      <td>2319.500000</td>\n",
       "      <td>3.000000</td>\n",
       "      <td>3.000000</td>\n",
       "      <td>33.000000</td>\n",
       "      <td>1.000000</td>\n",
       "      <td>1.000000</td>\n",
       "      <td>1.000000</td>\n",
       "    </tr>\n",
       "    <tr>\n",
       "      <th>75%</th>\n",
       "      <td>24.000000</td>\n",
       "      <td>3972.250000</td>\n",
       "      <td>4.000000</td>\n",
       "      <td>4.000000</td>\n",
       "      <td>42.000000</td>\n",
       "      <td>2.000000</td>\n",
       "      <td>1.000000</td>\n",
       "      <td>2.000000</td>\n",
       "    </tr>\n",
       "    <tr>\n",
       "      <th>max</th>\n",
       "      <td>72.000000</td>\n",
       "      <td>18424.000000</td>\n",
       "      <td>4.000000</td>\n",
       "      <td>4.000000</td>\n",
       "      <td>75.000000</td>\n",
       "      <td>4.000000</td>\n",
       "      <td>2.000000</td>\n",
       "      <td>2.000000</td>\n",
       "    </tr>\n",
       "  </tbody>\n",
       "</table>\n",
       "</div>"
      ],
      "text/plain": [
       "       Attribute 2   Attribute 5  Attribute 8  Attribute 11  Attribute 13  \\\n",
       "count  1000.000000   1000.000000  1000.000000   1000.000000   1000.000000   \n",
       "mean     20.903000   3271.258000     2.973000      2.845000     35.546000   \n",
       "std      12.058814   2822.736876     1.118715      1.103718     11.375469   \n",
       "min       4.000000    250.000000     1.000000      1.000000     19.000000   \n",
       "25%      12.000000   1365.500000     2.000000      2.000000     27.000000   \n",
       "50%      18.000000   2319.500000     3.000000      3.000000     33.000000   \n",
       "75%      24.000000   3972.250000     4.000000      4.000000     42.000000   \n",
       "max      72.000000  18424.000000     4.000000      4.000000     75.000000   \n",
       "\n",
       "       Attribute 16  Attribute 18  Credit Risk  \n",
       "count   1000.000000   1000.000000  1000.000000  \n",
       "mean       1.407000      1.155000     1.300000  \n",
       "std        0.577654      0.362086     0.458487  \n",
       "min        1.000000      1.000000     1.000000  \n",
       "25%        1.000000      1.000000     1.000000  \n",
       "50%        1.000000      1.000000     1.000000  \n",
       "75%        2.000000      1.000000     2.000000  \n",
       "max        4.000000      2.000000     2.000000  "
      ]
     },
     "execution_count": 6,
     "metadata": {},
     "output_type": "execute_result"
    }
   ],
   "source": [
    "data.describe()"
   ]
  },
  {
   "cell_type": "code",
   "execution_count": 7,
   "metadata": {},
   "outputs": [
    {
     "data": {
      "text/plain": [
       "1    700\n",
       "2    300\n",
       "Name: Credit Risk, dtype: int64"
      ]
     },
     "execution_count": 7,
     "metadata": {},
     "output_type": "execute_result"
    }
   ],
   "source": [
    "data[\"Credit Risk\"].value_counts()"
   ]
  },
  {
   "cell_type": "code",
   "execution_count": 8,
   "metadata": {},
   "outputs": [],
   "source": [
    "def plot_cond( df, var, conds, ax, normalize=True):\n",
    "    \"\"\"\n",
    "    Plot probability of a value in column var of DataFrame df, conditional on conditions expressed in conds\n",
    "    \n",
    "    Parameters\n",
    "    ----------\n",
    "    df: DataFrame\n",
    "    var: String.  Name of column in df whose density we will plot\n",
    "    conds: Dictionary\n",
    "    - keys are Strings, which are names of columns in df\n",
    "    - values are values that could be compared with column at the key\n",
    "    \n",
    "    \n",
    "    \"\"\"\n",
    "    plot_data = df.copy()\n",
    "    title_array = []\n",
    "    \n",
    "    for cond, val in conds.items():\n",
    "        title_array.append( \"{c}={v}\".format(c=cond, v=val))\n",
    "        plot_data = plot_data.loc[ plot_data.loc[:, cond] == val, : ]\n",
    "        \n",
    "        args = { \"kind\": \"bar\"}\n",
    "        \n",
    "    \n",
    "    plot_data = plot_data.loc[:, var ]\n",
    "    \n",
    "    title = \", \".join(title_array)\n",
    "    title = \"Prob({v} | {t})\".format(v=var, t=title)\n",
    "    plot_data.value_counts(normalize=normalize).sort_index().plot(title=title, ax=ax, **args)\n",
    "    \n",
    "def plot_conds(df, specs):\n",
    "    \"\"\"\n",
    "    Print multiple conditional plots using plot_cond\n",
    "    \n",
    "    Parameters\n",
    "    -----------\n",
    "    df: DataFrame\n",
    "    specs: List. Each element of the list is a tuple (var, conds)\n",
    "    -  each element of the list generates a call to plot_cond(df, var, conds)\n",
    "    \"\"\"\n",
    "    num_specs = len(specs)\n",
    "    ncols=3\n",
    "    nrows = max(1,round(.4999 + num_specs/ncols))\n",
    "  \n",
    "    fig, axes = plt.subplots(nrows=nrows, ncols=ncols, figsize=(ncols*4, num_specs*1.5))\n",
    "    \n",
    "    # Make sure axes is an array (special case when num_attrs==1)\n",
    "    if num_specs == 1:\n",
    "        axes =np.array( [ axes ])\n",
    "        \n",
    "    for i, spec in enumerate(specs):\n",
    "        if spec is None:\n",
    "            continue\n",
    "        (var, conds) = spec\n",
    "        plot_cond(df, var, conds, ax=axes.flatten()[i])"
   ]
  },
  {
   "cell_type": "code",
   "execution_count": 9,
   "metadata": {},
   "outputs": [],
   "source": [
    "import matplotlib.pyplot as plt"
   ]
  },
  {
   "cell_type": "code",
   "execution_count": 10,
   "metadata": {},
   "outputs": [
    {
     "data": {
      "image/png": "[encoded data removed]",
      "text/plain": [
       "<Figure size 864x432 with 6 Axes>"
      ]
     },
     "metadata": {
      "needs_background": "light"
     },
     "output_type": "display_data"
    }
   ],
   "source": [
    "plot_conds(data, [ (\"Credit Risk\", { \"Attribute 1\": \"A11\"}),\n",
    "                        (\"Credit Risk\", { \"Attribute 1\": \"A12\"}),\n",
    "                        (\"Credit Risk\", { \"Attribute 1\": \"A13\"}),\n",
    "                        (\"Credit Risk\", { \"Attribute 1\": \"A14\"}),\n",
    "\n",
    "                       ]\n",
    "          )"
   ]
  },
  {
   "cell_type": "code",
   "execution_count": 11,
   "metadata": {},
   "outputs": [
    {
     "data": {
      "image/png": "[encoded data removed]",
      "text/plain": [
       "<Figure size 864x540 with 6 Axes>"
      ]
     },
     "metadata": {
      "needs_background": "light"
     },
     "output_type": "display_data"
    }
   ],
   "source": [
    "plot_conds(data, [ (\"Credit Risk\", { \"Attribute 3\": \"A30\"}),\n",
    "                        (\"Credit Risk\", { \"Attribute 3\": \"A31\"}),\n",
    "                        (\"Credit Risk\", { \"Attribute 3\": \"A32\"}),\n",
    "                        (\"Credit Risk\", { \"Attribute 3\": \"A33\"}),\n",
    "                        (\"Credit Risk\", { \"Attribute 3\": \"A34\"}),\n",
    "                  \n",
    "\n",
    "                       ]\n",
    "          )"
   ]
  },
  {
   "cell_type": "code",
   "execution_count": 12,
   "metadata": {},
   "outputs": [
    {
     "data": {
      "image/png": "[encoded data removed]",
      "text/plain": [
       "<Figure size 864x1080 with 12 Axes>"
      ]
     },
     "metadata": {
      "needs_background": "light"
     },
     "output_type": "display_data"
    }
   ],
   "source": [
    "plot_conds(data, [ (\"Credit Risk\", { \"Attribute 4\": \"A40\"}),\n",
    "                        (\"Credit Risk\", { \"Attribute 4\": \"A41\"}),\n",
    "                        (\"Credit Risk\", { \"Attribute 4\": \"A42\"}),\n",
    "                        (\"Credit Risk\", { \"Attribute 4\": \"A43\"}),\n",
    "                        (\"Credit Risk\", { \"Attribute 4\": \"A44\"}),\n",
    "                        (\"Credit Risk\", { \"Attribute 4\": \"A45\"}),\n",
    "                        (\"Credit Risk\", { \"Attribute 4\": \"A46\"}),\n",
    "                        (\"Credit Risk\", { \"Attribute 4\": \"A48\"}),\n",
    "                        (\"Credit Risk\", { \"Attribute 4\": \"A49\"}),\n",
    "                        (\"Credit Risk\", { \"Attribute 4\": \"A410\"}),\n",
    "\n",
    "                  \n",
    "\n",
    "                       ]\n",
    "          )"
   ]
  },
  {
   "cell_type": "code",
   "execution_count": 13,
   "metadata": {},
   "outputs": [
    {
     "name": "stderr",
     "output_type": "stream",
     "text": [
      "No handles with labels found to put in legend.\n"
     ]
    },
    {
     "data": {
      "text/plain": [
       "<matplotlib.legend.Legend at 0x119744ac8>"
      ]
     },
     "execution_count": 13,
     "metadata": {},
     "output_type": "execute_result"
    },
    {
     "data": {
      "image/png": "[encoded data removed]",
      "text/plain": [
       "<Figure size 720x504 with 2 Axes>"
      ]
     },
     "metadata": {
      "needs_background": "light"
     },
     "output_type": "display_data"
    }
   ],
   "source": [
    "data.plot(kind=\"scatter\", x=\"Attribute 5\", y=\"Attribute 13\", alpha=0.4,\n",
    "     figsize=(10,7),\n",
    "    c=\"Attribute 2\", cmap=plt.get_cmap(\"jet\"), colorbar=True,\n",
    "    sharex=False)\n",
    "plt.legend()"
   ]
  },
  {
   "cell_type": "markdown",
   "metadata": {},
   "source": [
    "Haha, nothing except from smartness!"
   ]
  },
  {
   "cell_type": "markdown",
   "metadata": {},
   "source": [
    "# Data Cleaning"
   ]
  },
  {
   "cell_type": "code",
   "execution_count": 14,
   "metadata": {},
   "outputs": [],
   "source": [
    "from sklearn.base import BaseEstimator, TransformerMixin\n",
    "from sklearn.pipeline import Pipeline\n",
    "from sklearn.preprocessing import OneHotEncoder \n",
    "from sklearn.pipeline import FeatureUnion"
   ]
  },
  {
   "cell_type": "code",
   "execution_count": 15,
   "metadata": {},
   "outputs": [],
   "source": [
    "num_features = [\"Attribute 2\", \"Attribute 5\", \"Attribute 8\", \"Attribute 11\",\"Attribute 13\",\"Attribute 16\",\"Attribute 18\"]\n",
    "cat_features = [\"Attribute 1\", \"Attribute 3\", \"Attribute 4\", \"Attribute 6\",\"Attribute 7\",\"Attribute 8\",\"Attribute 9\",\"Attribute 10\", \"Attribute 12\", \"Attribute 14\", \"Attribute 15\",\"Attribute 17\",\"Attribute 19\",\"Attribute 20\",\"Credit Risk\"]"
   ]
  },
  {
   "cell_type": "code",
   "execution_count": 16,
   "metadata": {},
   "outputs": [],
   "source": [
    "class DataFrameSelector(BaseEstimator, TransformerMixin):\n",
    "    def __init__(self, attribute_names):\n",
    "        self.attribute_names = attribute_names\n",
    "    def fit(self, X, y=None):\n",
    "        return self\n",
    "    def transform(self, X):\n",
    "        return X[self.attribute_names]"
   ]
  },
  {
   "cell_type": "code",
   "execution_count": 17,
   "metadata": {},
   "outputs": [],
   "source": [
    "num_pipeline = Pipeline([\n",
    "        (\"select_numeric\", DataFrameSelector( num_features )),\n",
    "    ])\n",
    "\n",
    "cat_pipeline = Pipeline([\n",
    "        (\"select_cat\", DataFrameSelector( cat_features )),\n",
    "        (\"cat_encoder\", OneHotEncoder(sparse=False)),\n",
    "    ])\n",
    "\n",
    "\n",
    "preprocess_pipeline = FeatureUnion(transformer_list=[\n",
    "        (\"num_pipeline\", num_pipeline),\n",
    "        (\"cat_pipeline\", cat_pipeline),\n",
    "    ])"
   ]
  },
  {
   "cell_type": "code",
   "execution_count": 18,
   "metadata": {},
   "outputs": [],
   "source": [
    "data_1 = preprocess_pipeline.fit_transform(data)"
   ]
  },
  {
   "cell_type": "code",
   "execution_count": null,
   "metadata": {},
   "outputs": [],
   "source": []
  },
  {
   "cell_type": "code",
   "execution_count": 19,
   "metadata": {},
   "outputs": [],
   "source": [
    "y_train = data_1[:800,-2]"
   ]
  },
  {
   "cell_type": "code",
   "execution_count": 20,
   "metadata": {},
   "outputs": [],
   "source": [
    "y_test = data_1[800:,-2]"
   ]
  },
  {
   "cell_type": "code",
   "execution_count": 21,
   "metadata": {},
   "outputs": [
    {
     "data": {
      "text/plain": [
       "(800,)"
      ]
     },
     "execution_count": 21,
     "metadata": {},
     "output_type": "execute_result"
    }
   ],
   "source": [
    "y_train.shape"
   ]
  },
  {
   "cell_type": "code",
   "execution_count": 22,
   "metadata": {},
   "outputs": [],
   "source": [
    "X_train = data_1[:800,:-2]"
   ]
  },
  {
   "cell_type": "code",
   "execution_count": 23,
   "metadata": {},
   "outputs": [],
   "source": [
    "X_test = data_1[800:,:-2]"
   ]
  },
  {
   "cell_type": "code",
   "execution_count": 24,
   "metadata": {
    "scrolled": true
   },
   "outputs": [
    {
     "data": {
      "text/plain": [
       "(800, 65)"
      ]
     },
     "execution_count": 24,
     "metadata": {},
     "output_type": "execute_result"
    }
   ],
   "source": [
    "X_train.shape"
   ]
  },
  {
   "cell_type": "markdown",
   "metadata": {},
   "source": [
    "# Model"
   ]
  },
  {
   "cell_type": "markdown",
   "metadata": {},
   "source": [
    "## Baseline Model"
   ]
  },
  {
   "cell_type": "code",
   "execution_count": 25,
   "metadata": {},
   "outputs": [
    {
     "name": "stdout",
     "output_type": "stream",
     "text": [
      "stratified: Accuracy = 0.57\n",
      "uniform: Accuracy = 0.51\n",
      "constant: Accuracy = 0.70\n"
     ]
    }
   ],
   "source": [
    "from sklearn.model_selection import cross_val_score\n",
    "from sklearn.dummy import DummyClassifier\n",
    "\n",
    "strats = { \"stratified\": {}, \n",
    "          \"uniform\": {},\n",
    "          \"constant\": {\"constant\": True}\n",
    "         }\n",
    "    \n",
    "plt_num = 1\n",
    "\n",
    "# Compute Accuracy for various baseline classifiers\n",
    "for strat, args in strats.items():\n",
    "    dmy_clf = DummyClassifier(strategy=strat, **args)\n",
    "    acc_scores_dmy = cross_val_score(dmy_clf, X_train, y_train, cv=5, scoring=\"accuracy\")\n",
    "    \n",
    "    print(\"{s}: Accuracy = {a:.2f}\".format(s=strat, a=acc_scores_dmy.mean()))"
   ]
  },
  {
   "cell_type": "markdown",
   "metadata": {},
   "source": [
    "## Machine Learning Model"
   ]
  },
  {
   "cell_type": "code",
   "execution_count": 26,
   "metadata": {},
   "outputs": [],
   "source": [
    "\n",
    "from sklearn import linear_model, preprocessing, model_selection \n",
    "\n",
    "# New version of sklearn will give a warning if you don't specify a solver (b/c the default solver -- liblinear -- will be replaced in future)\n",
    "logistic_clf = linear_model.LogisticRegression(solver='liblinear')\n",
    "\n",
    "from sklearn.svm import SVC\n",
    "svm_clf = SVC(gamma=\"auto\")\n",
    "\n",
    "from sklearn.ensemble import RandomForestClassifier\n",
    "forest_clf = RandomForestClassifier(n_estimators=100, random_state=42)"
   ]
  },
  {
   "cell_type": "code",
   "execution_count": 27,
   "metadata": {},
   "outputs": [
    {
     "data": {
      "text/plain": [
       "0.7425194831829367"
      ]
     },
     "execution_count": 27,
     "metadata": {},
     "output_type": "execute_result"
    }
   ],
   "source": [
    "scores_logistic = cross_val_score(logistic_clf, X_train, y_train, cv=5)\n",
    "SCORE_LOGESTIC = scores_logistic.mean()\n",
    "SCORE_LOGESTIC"
   ]
  },
  {
   "cell_type": "code",
   "execution_count": 28,
   "metadata": {},
   "outputs": [
    {
     "data": {
      "text/plain": [
       "0.6925187995624829"
      ]
     },
     "execution_count": 28,
     "metadata": {},
     "output_type": "execute_result"
    }
   ],
   "source": [
    "scores_svm = cross_val_score(svm_clf, X_train, y_train, cv=5)\n",
    "SCORE_SVM = scores_svm.mean()\n",
    "SCORE_SVM"
   ]
  },
  {
   "cell_type": "code",
   "execution_count": 29,
   "metadata": {},
   "outputs": [
    {
     "data": {
      "text/plain": [
       "0.762441843431384"
      ]
     },
     "execution_count": 29,
     "metadata": {},
     "output_type": "execute_result"
    }
   ],
   "source": [
    "scores_forest = cross_val_score(forest_clf, X_train, y_train, cv=5)\n",
    "SCORE_FOREST = scores_forest.mean()\n",
    "SCORE_FOREST"
   ]
  },
  {
   "cell_type": "code",
   "execution_count": 30,
   "metadata": {},
   "outputs": [
    {
     "data": {
      "text/plain": [
       "0.6737527833118481"
      ]
     },
     "execution_count": 30,
     "metadata": {},
     "output_type": "execute_result"
    }
   ],
   "source": [
    "from sklearn.neighbors import KNeighborsClassifier\n",
    "knn_clf = KNeighborsClassifier(20)\n",
    "scores_knn = cross_val_score(knn_clf, X_train, y_train, cv=5)\n",
    "SCORE_KNN = scores_knn.mean()\n",
    "SCORE_KNN"
   ]
  },
  {
   "cell_type": "markdown",
   "metadata": {},
   "source": [
    "# Analysis"
   ]
  },
  {
   "cell_type": "code",
   "execution_count": 31,
   "metadata": {},
   "outputs": [],
   "source": [
    "from sklearn import metrics\n",
    "from sklearn.model_selection import cross_val_predict\n",
    "import numpy as np"
   ]
  },
  {
   "cell_type": "code",
   "execution_count": 32,
   "metadata": {},
   "outputs": [],
   "source": [
    "predicted = cross_val_predict(forest_clf, X_train, y_train, cv=5)\n",
    "expected = y_train\n",
    "confusion_mat = metrics.confusion_matrix(expected, predicted)"
   ]
  },
  {
   "cell_type": "code",
   "execution_count": 33,
   "metadata": {},
   "outputs": [],
   "source": [
    "# %load mnist_plot_confusion.py\n",
    "import itertools\n",
    "\n",
    "def plot_confusion_matrix(cm, classes,\n",
    "                          normalize=False,\n",
    "                          title='Confusion matrix',\n",
    "                          cmap=plt.cm.Blues):\n",
    "    \"\"\"\n",
    "    This function prints and plots the confusion matrix.\n",
    "    Normalization can be applied by setting `normalize=True`.\n",
    "    \"\"\"\n",
    "    if normalize:\n",
    "        # Normalize by row sums\n",
    "        cm_pct = cm.astype('float') / cm.sum(axis=1)[:, np.newaxis]\n",
    "        cm = np.around( 100 * cm_pct, decimals=0).astype(int)\n",
    "        \n",
    "        print(\"Normalized confusion matrix\")\n",
    "    else:\n",
    "        print('Confusion matrix, without normalization')\n",
    "\n",
    "    plt.imshow(cm, interpolation='nearest', cmap=cmap)\n",
    "    plt.title(title)\n",
    "    plt.colorbar()\n",
    "    tick_marks = np.arange(len(classes))\n",
    "    plt.xticks(tick_marks, classes, rotation=45)\n",
    "    plt.yticks(tick_marks, classes)\n",
    "\n",
    "    fmt = '.2f' if normalize else 'd'\n",
    "    fmt = 'd'\n",
    "    thresh = cm.max() / 2.\n",
    "    for i, j in itertools.product(range(cm.shape[0]), range(cm.shape[1])):\n",
    "        # Plot coordinate system has origin in upper left corner\n",
    "        # -  coordinates are (horizontal offset, vertical offset)\n",
    "        # -  so cm[i,j] should appear in plot coordinate (j,i)\n",
    "        plt.text(j, i, format(cm[i, j], fmt),\n",
    "                 horizontalalignment=\"center\",\n",
    "                 color=\"white\" if cm[i, j] > thresh else \"black\")\n",
    "\n",
    "    plt.ylabel('True label')\n",
    "    plt.xlabel('Predicted label')\n",
    "    plt.tight_layout()"
   ]
  },
  {
   "cell_type": "code",
   "execution_count": 34,
   "metadata": {},
   "outputs": [
    {
     "name": "stdout",
     "output_type": "stream",
     "text": [
      "Normalized confusion matrix\n"
     ]
    },
    {
     "data": {
      "image/png": "[encoded data removed]",
      "text/plain": [
       "<Figure size 432x288 with 2 Axes>"
      ]
     },
     "metadata": {
      "needs_background": "light"
     },
     "output_type": "display_data"
    }
   ],
   "source": [
    "plot_confusion_matrix(confusion_mat, range(2),normalize=True)"
   ]
  },
  {
   "cell_type": "markdown",
   "metadata": {},
   "source": [
    "# Further Exploration"
   ]
  },
  {
   "cell_type": "code",
   "execution_count": 35,
   "metadata": {},
   "outputs": [
    {
     "name": "stdout",
     "output_type": "stream",
     "text": [
      "n_estimator =  10 score: 0.7087299796867066\n",
      "n_estimator =  20 score: 0.738715037696785\n",
      "n_estimator =  30 score: 0.7549415504511896\n",
      "n_estimator =  40 score: 0.7550042482128209\n",
      "n_estimator =  50 score: 0.7524495097464745\n",
      "n_estimator =  60 score: 0.757433884136099\n",
      "n_estimator =  70 score: 0.7524416481112544\n",
      "n_estimator =  80 score: 0.7524337864760343\n",
      "n_estimator =  90 score: 0.7524182585257237\n",
      "n_estimator =  100 score: 0.762441843431384\n",
      "n_estimator =  110 score: 0.7636996074065394\n",
      "n_estimator =  120 score: 0.7674497050666041\n",
      "n_estimator =  130 score: 0.7624497050666041\n"
     ]
    }
   ],
   "source": [
    "for i in range(10,140,10):\n",
    "    forest_clf = RandomForestClassifier(n_estimators=i, random_state=42)\n",
    "    scores_forest = cross_val_score(forest_clf, X_train, y_train, cv=5)\n",
    "    SCORE_FOREST = scores_forest.mean()\n",
    "    print(\"n_estimator = \",i,\"score:\",SCORE_FOREST)\n"
   ]
  },
  {
   "cell_type": "markdown",
   "metadata": {},
   "source": [
    "We know that n_estimator is a very important estimator: A too big n will cause over fitting and a very small n will cause underfitting. So I try different n in random forest model. However, the defult value of n is 100 and the result is better than every result in the eeperiment above. And I apply a similar method to KNN."
   ]
  },
  {
   "cell_type": "code",
   "execution_count": 36,
   "metadata": {},
   "outputs": [
    {
     "name": "stdout",
     "output_type": "stream",
     "text": [
      "1 : 0.6210881772725496\n",
      "4 : 0.5986892066096332\n",
      "7 : 0.6699483378256963\n",
      "10 : 0.6611901832102817\n",
      "13 : 0.6812608402671978\n",
      "16 : 0.6775263682175086\n",
      "19 : 0.6875343275127934\n"
     ]
    }
   ],
   "source": [
    "for i in range(1,20,3):\n",
    "    knn_clf = KNeighborsClassifier(i)\n",
    "    scores_knn = cross_val_score(knn_clf, X_train, y_train, cv=5)\n",
    "    SCORE_KNN = scores_knn.mean()\n",
    "    print(i,\":\",SCORE_KNN)"
   ]
  },
  {
   "cell_type": "markdown",
   "metadata": {},
   "source": [
    "Next, I will do some exploration with logistic regression."
   ]
  },
  {
   "cell_type": "code",
   "execution_count": 37,
   "metadata": {},
   "outputs": [],
   "source": [
    "predicted_1 = cross_val_predict(forest_clf, X_train, y_train, cv=5)\n",
    "expected = y_train\n",
    "confusion_mat_1 = metrics.confusion_matrix(expected, predicted_1)"
   ]
  },
  {
   "cell_type": "code",
   "execution_count": 38,
   "metadata": {},
   "outputs": [
    {
     "name": "stdout",
     "output_type": "stream",
     "text": [
      "Normalized confusion matrix\n"
     ]
    },
    {
     "data": {
      "image/png": "[encoded data removed]",
      "text/plain": [
       "<Figure size 432x288 with 2 Axes>"
      ]
     },
     "metadata": {
      "needs_background": "light"
     },
     "output_type": "display_data"
    }
   ],
   "source": [
    "plot_confusion_matrix(confusion_mat_1, range(2),normalize=True)"
   ]
  },
  {
   "cell_type": "markdown",
   "metadata": {},
   "source": [
    "In the logestic regression we find that so many people with bad credit risk are predicted as people with good credit risk."
   ]
  },
  {
   "cell_type": "code",
   "execution_count": 39,
   "metadata": {},
   "outputs": [],
   "source": [
    "y_scores = cross_val_predict(logistic_clf, X_train, y_train, cv=5,\n",
    "                             method=\"decision_function\")"
   ]
  },
  {
   "cell_type": "code",
   "execution_count": 40,
   "metadata": {},
   "outputs": [],
   "source": [
    "from sklearn.metrics import precision_recall_curve\n",
    "\n",
    "precisions, recalls, thresholds = precision_recall_curve(y_train, y_scores)\n",
    "\n",
    "def plot_precision_recall_vs_threshold(precisions, recalls, thresholds):\n",
    "    _ = plt.plot(thresholds, precisions[:-1], \"b--\", label=\"Precision\", linewidth=2)\n",
    "    _ = plt.plot(thresholds, recalls[:-1], \"g-\", label=\"Recall\", linewidth=2)\n",
    "    _ = plt.xlabel(\"Threshold\", fontsize=16)\n",
    "    _ = plt.legend(loc=\"upper left\", fontsize=16)\n",
    "    _ = plt.ylim([0, 1])"
   ]
  },
  {
   "cell_type": "code",
   "execution_count": 41,
   "metadata": {},
   "outputs": [
    {
     "data": {
      "image/png": "[encoded data removed]",
      "text/plain": [
       "<Figure size 576x288 with 1 Axes>"
      ]
     },
     "metadata": {
      "needs_background": "light"
     },
     "output_type": "display_data"
    }
   ],
   "source": [
    "_ = plt.figure(figsize=(8, 4))\n",
    "plot_precision_recall_vs_threshold(precisions, recalls, thresholds)\n",
    "_ = plt.xlim([ thresholds.min(), thresholds.max()])\n",
    "\n",
    "_ = plt.show()"
   ]
  },
  {
   "cell_type": "markdown",
   "metadata": {},
   "source": [
    "From the chart we could find that Precision is always very high, which is resulted from high good credit risk; when I do not know what the situaltion of credit risk of a new person, we would better regard him as a good one for precision. And that is the reaon of high false nagetive value."
   ]
  },
  {
   "cell_type": "markdown",
   "metadata": {},
   "source": [
    "# Final Model"
   ]
  },
  {
   "cell_type": "markdown",
   "metadata": {},
   "source": [
    "Based on above analysis, I decide to choose random forest model with n_estimator equaling to 100 as my final model."
   ]
  },
  {
   "cell_type": "markdown",
   "metadata": {},
   "source": [
    "Probably we do not use the same function to transform the data from csv into nparray that we could use and the method we use to deal with categorical data and the order of our data may be different as well, so please use the following function to transform data if it could help.Or you could simply use your data to first fit the random forest model and then test it."
   ]
  },
  {
   "cell_type": "code",
   "execution_count": 42,
   "metadata": {},
   "outputs": [],
   "source": [
    "def credit_model_datacleaning(test_data):\n",
    "    test = preprocess_pipeline.transform(test_data)\n",
    "    return train[:,-2],train[:,:-2]"
   ]
  },
  {
   "cell_type": "code",
   "execution_count": 48,
   "metadata": {},
   "outputs": [],
   "source": [
    "credit_model = RandomForestClassifier(n_estimators=120, random_state=42)"
   ]
  },
  {
   "cell_type": "code",
   "execution_count": 49,
   "metadata": {},
   "outputs": [
    {
     "data": {
      "text/plain": [
       "RandomForestClassifier(bootstrap=True, class_weight=None, criterion='gini',\n",
       "            max_depth=None, max_features='auto', max_leaf_nodes=None,\n",
       "            min_impurity_decrease=0.0, min_impurity_split=None,\n",
       "            min_samples_leaf=1, min_samples_split=2,\n",
       "            min_weight_fraction_leaf=0.0, n_estimators=120, n_jobs=None,\n",
       "            oob_score=False, random_state=42, verbose=0, warm_start=False)"
      ]
     },
     "execution_count": 49,
     "metadata": {},
     "output_type": "execute_result"
    }
   ],
   "source": [
    "credit_model.fit(X_train,y_train)"
   ]
  },
  {
   "cell_type": "code",
   "execution_count": 50,
   "metadata": {},
   "outputs": [],
   "source": [
    "y_predict = credit_model.predict(X_test)"
   ]
  },
  {
   "cell_type": "code",
   "execution_count": 51,
   "metadata": {},
   "outputs": [],
   "source": [
    "Accuracy = (y_predict==y_test).mean()"
   ]
  },
  {
   "cell_type": "code",
   "execution_count": 52,
   "metadata": {},
   "outputs": [
    {
     "data": {
      "text/plain": [
       "0.75"
      ]
     },
     "execution_count": 52,
     "metadata": {},
     "output_type": "execute_result"
    }
   ],
   "source": [
    "Accuracy"
   ]
  },
  {
   "cell_type": "code",
   "execution_count": null,
   "metadata": {},
   "outputs": [],
   "source": []
  }
 ],
 "metadata": {
  "kernelspec": {
   "display_name": "Python 3",
   "language": "python",
   "name": "python3"
  },
  "language_info": {
   "codemirror_mode": {
    "name": "ipython",
    "version": 3
   },
   "file_extension": ".py",
   "mimetype": "text/x-python",
   "name": "python",
   "nbconvert_exporter": "python",
   "pygments_lexer": "ipython3",
   "version": "3.6.8"
  },
  "toc": {
   "base_numbering": 1,
   "nav_menu": {},
   "number_sections": true,
   "sideBar": true,
   "skip_h1_title": false,
   "title_cell": "Table of Contents",
   "title_sidebar": "Contents",
   "toc_cell": false,
   "toc_position": {},
   "toc_section_display": true,
   "toc_window_display": false
  }
 },
 "nbformat": 4,
 "nbformat_minor": 2
}
